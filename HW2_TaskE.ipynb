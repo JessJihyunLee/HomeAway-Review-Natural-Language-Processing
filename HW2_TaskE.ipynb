{
 "cells": [
  {
   "cell_type": "code",
   "execution_count": 160,
   "metadata": {},
   "outputs": [
    {
     "name": "stdout",
     "output_type": "stream",
     "text": [
      "[nltk_data] Downloading package stopwords to\n",
      "[nltk_data]     C:\\Users\\carol\\AppData\\Roaming\\nltk_data...\n",
      "[nltk_data]   Package stopwords is already up-to-date!\n"
     ]
    }
   ],
   "source": [
    "import pandas as pd\n",
    "from pandas import DataFrame, Series\n",
    "import copy\n",
    "from string import punctuation\n",
    "import re\n",
    "from nltk.corpus import stopwords\n",
    "import nltk\n",
    "nltk.download('stopwords')\n",
    "from nltk import word_tokenize"
   ]
  },
  {
   "cell_type": "code",
   "execution_count": 161,
   "metadata": {},
   "outputs": [],
   "source": [
    "comments = pd.read_csv(\"C:/Users/carol/Downloads/comments.csv\")\n",
    "models = pd.read_csv(\"C:/Users/carol/Downloads/models.csv\")\n",
    "models.columns = ['brand','model']"
   ]
  },
  {
   "cell_type": "code",
   "execution_count": 162,
   "metadata": {},
   "outputs": [],
   "source": [
    "x = copy.deepcopy(comments)\n",
    "comments_copy = x.dropna().reset_index(drop=True).drop(columns='Unnamed: 0')"
   ]
  },
  {
   "cell_type": "code",
   "execution_count": 163,
   "metadata": {},
   "outputs": [],
   "source": [
    "def remove_space(s):\n",
    "    return s.replace(\"\\n\",\" \")\n",
    "\n",
    "comments_copy['comments'] = comments_copy['comments'].apply(remove_space)"
   ]
  },
  {
   "cell_type": "code",
   "execution_count": 164,
   "metadata": {},
   "outputs": [],
   "source": [
    "def removepunc(item):\n",
    "    for p in punctuation:\n",
    "        item = item.replace(p,'')\n",
    "    return item\n",
    "\n",
    "def lowerize(x):\n",
    "    return x.lower()\n",
    "\n",
    "comments_copy['comments_clean'] = comments_copy['comments'].apply(removepunc).apply(lowerize)"
   ]
  },
  {
   "cell_type": "code",
   "execution_count": 165,
   "metadata": {},
   "outputs": [],
   "source": [
    "models['brand'] = models['brand'].apply(removepunc)\n",
    "\n",
    "def model_to_brand(s):\n",
    "    for i in models.index.values:\n",
    "        s = s.replace(models[\"model\"][i].lower(),models[\"brand\"][i].lower())\n",
    "    return s\n",
    "\n",
    "comments_copy['comments_model_replace'] = comments_copy['comments_clean'].apply(model_to_brand)"
   ]
  },
  {
   "cell_type": "code",
   "execution_count": 166,
   "metadata": {},
   "outputs": [],
   "source": [
    "temp = copy.deepcopy(comments_copy)"
   ]
  },
  {
   "cell_type": "code",
   "execution_count": 167,
   "metadata": {},
   "outputs": [],
   "source": [
    "temp['comments_appear'] = temp['comments_model_replace'].apply(word_tokenize).apply(set).apply(list)\n",
    "\n",
    "# Remove stop words\n",
    "stop_words = set(stopwords.words('english'))\n",
    "def remove_stopwords(s):\n",
    "    return [w for w in s if not w in stop_words] \n",
    "    \n",
    "temp['final_comments'] =  temp['comments_appear'].apply(remove_stopwords)\n",
    "#filtered_sentence = [w for w in temp['comments_appear'] if not w in stop_words]"
   ]
  },
  {
   "cell_type": "code",
   "execution_count": 168,
   "metadata": {},
   "outputs": [],
   "source": [
    "count=[]\n",
    "for i in range(len(temp)):\n",
    "    count+=temp['final_comments'].loc[i]"
   ]
  },
  {
   "cell_type": "code",
   "execution_count": 169,
   "metadata": {},
   "outputs": [],
   "source": [
    "word_freq = nltk.FreqDist(count)"
   ]
  },
  {
   "cell_type": "code",
   "execution_count": 170,
   "metadata": {},
   "outputs": [],
   "source": [
    "models_unique = models['brand'].drop_duplicates().tolist()"
   ]
  },
  {
   "cell_type": "code",
   "execution_count": 171,
   "metadata": {},
   "outputs": [],
   "source": [
    "top_words = word_freq.most_common(500)\n",
    "top_brands = []\n",
    "for (key, items) in top_words:\n",
    "    if key in models_unique:\n",
    "        model_counts = (key,items)\n",
    "        top_brands.append(model_counts)"
   ]
  },
  {
   "cell_type": "code",
   "execution_count": 172,
   "metadata": {},
   "outputs": [
    {
     "data": {
      "text/plain": [
       "[('bmw', 1435),\n",
       " ('audi', 1246),\n",
       " ('acura', 1170),\n",
       " ('hyundai', 750),\n",
       " ('volkswagen', 653),\n",
       " ('honda', 632),\n",
       " ('mercedes', 450),\n",
       " ('infiniti', 437),\n",
       " ('ford', 429),\n",
       " ('kia', 400),\n",
       " ('cadillac', 372),\n",
       " ('chrysler', 363),\n",
       " ('subaru', 236),\n",
       " ('lexus', 198),\n",
       " ('nissan', 135),\n",
       " ('toyota', 125),\n",
       " ('volvo', 115),\n",
       " ('chevrolet', 103),\n",
       " ('gm', 97)]"
      ]
     },
     "execution_count": 172,
     "metadata": {},
     "output_type": "execute_result"
    }
   ],
   "source": [
    "top_brands"
   ]
  },
  {
   "cell_type": "markdown",
   "metadata": {},
   "source": [
    "### Lift and MDS"
   ]
  },
  {
   "cell_type": "markdown",
   "metadata": {},
   "source": [
    "First calculate Lift counting any co-occurence at one row as one from whole comments"
   ]
  },
  {
   "cell_type": "code",
   "execution_count": 173,
   "metadata": {},
   "outputs": [],
   "source": [
    "import itertools"
   ]
  },
  {
   "cell_type": "code",
   "execution_count": 174,
   "metadata": {},
   "outputs": [],
   "source": [
    "brand_list = models['brand'].unique()\n",
    "y = list(itertools.product(brand_list,repeat=2))\n",
    "z = DataFrame(index=range(len(y)), data={'pairs':y, 'count':0*len(y)})\n",
    "a = DataFrame(index=range(len(brand_list)), data={'brands':brand_list, 'count':0*len(y)})"
   ]
  },
  {
   "cell_type": "code",
   "execution_count": 175,
   "metadata": {},
   "outputs": [],
   "source": [
    "def brand_detect(d):\n",
    "    bd = []\n",
    "    for x in d:\n",
    "        if x in brand_list:\n",
    "            brand_mentioned = x\n",
    "            bd.append(brand_mentioned)\n",
    "    return bd\n",
    "\n",
    "def brand_combination(l):\n",
    "    return list(itertools.combinations(l,2))\n",
    "\n",
    "temp['pairs'] = temp['final_comments'].apply(brand_detect).apply(brand_combination)"
   ]
  },
  {
   "cell_type": "code",
   "execution_count": 176,
   "metadata": {},
   "outputs": [],
   "source": [
    "pair_list =[]\n",
    "\n",
    "for i in range(len(temp)):\n",
    "    pair_list+= temp['pairs'][i]"
   ]
  },
  {
   "cell_type": "code",
   "execution_count": 177,
   "metadata": {},
   "outputs": [
    {
     "name": "stderr",
     "output_type": "stream",
     "text": [
      "C:\\Users\\carol\\Anaconda3\\lib\\site-packages\\ipykernel_launcher.py:3: SettingWithCopyWarning: \n",
      "A value is trying to be set on a copy of a slice from a DataFrame\n",
      "\n",
      "See the caveats in the documentation: http://pandas.pydata.org/pandas-docs/stable/indexing.html#indexing-view-versus-copy\n",
      "  This is separate from the ipykernel package so we can avoid doing imports until\n"
     ]
    }
   ],
   "source": [
    "for t in range(len(z)):\n",
    "    p_count = pair_list.count(z['pairs'][t])\n",
    "    z['count'][t] = p_count"
   ]
  },
  {
   "cell_type": "code",
   "execution_count": 178,
   "metadata": {},
   "outputs": [
    {
     "name": "stderr",
     "output_type": "stream",
     "text": [
      "C:\\Users\\carol\\Anaconda3\\lib\\site-packages\\ipykernel_launcher.py:3: SettingWithCopyWarning: \n",
      "A value is trying to be set on a copy of a slice from a DataFrame\n",
      "\n",
      "See the caveats in the documentation: http://pandas.pydata.org/pandas-docs/stable/indexing.html#indexing-view-versus-copy\n",
      "  This is separate from the ipykernel package so we can avoid doing imports until\n"
     ]
    }
   ],
   "source": [
    "for i in range(len(a)):\n",
    "    b_count = count.count(a['brands'][i])\n",
    "    a['count'][i] = b_count\n",
    "    \n",
    "N=len(temp)"
   ]
  },
  {
   "cell_type": "code",
   "execution_count": 179,
   "metadata": {},
   "outputs": [
    {
     "name": "stderr",
     "output_type": "stream",
     "text": [
      "C:\\Users\\carol\\Anaconda3\\lib\\site-packages\\ipykernel_launcher.py:7: RuntimeWarning: invalid value encountered in longlong_scalars\n",
      "  import sys\n"
     ]
    }
   ],
   "source": [
    "#lift matrrix of whole brands\n",
    "n = len(a)\n",
    "mtx = [[0]*n for i in range(n)]\n",
    "N = len(temp)\n",
    "for i in range(n):\n",
    "    for j in range(n):\n",
    "        mtx[i][j] = (N*(z['count'].loc[(i*n+j)]))/((a['count'].loc[i])*(a['count'].loc[j]))"
   ]
  },
  {
   "cell_type": "code",
   "execution_count": 180,
   "metadata": {},
   "outputs": [
    {
     "name": "stdout",
     "output_type": "stream",
     "text": [
      "                acura  alfaromeo      audi  bentley       bmw  bugatti  \\\n",
      "acura        0.000000   0.000000  0.051436      NaN  0.041684      NaN   \n",
      "alfaromeo    0.993639   0.000000  0.093303      NaN  0.972174      NaN   \n",
      "audi         1.162462   0.279910  0.000000      NaN  0.436152      NaN   \n",
      "bentley           NaN        NaN       NaN      NaN       NaN      NaN   \n",
      "bmw          0.905147   0.000000  0.886283      NaN  0.000000      NaN   \n",
      "bugatti           NaN        NaN       NaN      NaN       NaN      NaN   \n",
      "buick        1.608527   0.000000  0.094401      NaN  0.819676      NaN   \n",
      "cadillac     1.458673   0.000000  1.251066      NaN  1.039468      NaN   \n",
      "chevrolet    0.995569   0.000000  1.129603      NaN  0.135286      NaN   \n",
      "chrysler     0.400193   1.601320  3.271525      NaN  0.441451      NaN   \n",
      "dodge        0.681147   1.684867  0.872182      NaN  1.110721      NaN   \n",
      "ford         0.507937   0.000000  0.000000      NaN  0.000000      NaN   \n",
      "gm           1.101198   0.000000  0.951308      NaN  0.790100      NaN   \n",
      "honda        1.947030   0.919745  0.533246      NaN  0.391356      NaN   \n",
      "hyundai      1.931238   0.155008  0.037446      NaN  0.534156      NaN   \n",
      "hyundai kia       NaN        NaN       NaN      NaN       NaN      NaN   \n",
      "infiniti     0.889728   0.000000  0.100990      NaN  0.063773      NaN   \n",
      "jaguar       3.126329   0.000000  0.391418      NaN  0.000000      NaN   \n",
      "kia          0.448628   1.453198  1.253762      NaN  0.426744      NaN   \n",
      "lamborghini       NaN        NaN       NaN      NaN       NaN      NaN   \n",
      "lexus        1.963692   0.000000  0.202628      NaN  0.791733      NaN   \n",
      "lincoln      1.919596   0.000000  0.058145      NaN  0.050487      NaN   \n",
      "mazda        1.005329   0.000000  0.000000      NaN  0.081968      NaN   \n",
      "mercedes     1.414722   0.775039  1.381924      NaN  2.314674      NaN   \n",
      "mercury      1.281795   0.000000  1.604815      NaN  0.000000      NaN   \n",
      "mitsubishi   2.478137   0.000000  0.320963      NaN  0.000000      NaN   \n",
      "nissan       2.120500   2.583463  1.010439      NaN  0.980576      NaN   \n",
      "pontiac      0.985996   0.000000  0.925855      NaN  0.000000      NaN   \n",
      "porsche      0.912139   0.000000  0.405712      NaN  0.508844      NaN   \n",
      "saab         3.961911   0.000000  0.291785      NaN  0.443370      NaN   \n",
      "saturn       1.424217   0.000000  0.000000      NaN  0.000000      NaN   \n",
      "skoda        0.854530   0.000000  1.604815      NaN  0.696725      NaN   \n",
      "subaru       0.525029   0.000000  0.085001      NaN  0.177133      NaN   \n",
      "suzuki       1.709060   0.000000  2.407223      NaN  1.393449      NaN   \n",
      "tesla        0.164333   0.000000  0.154309      NaN  0.669928      NaN   \n",
      "toyota       1.230523   0.000000  1.155467      NaN  1.031153      NaN   \n",
      "volkswagen   0.844061   0.000000  1.050626      NaN  0.026674      NaN   \n",
      "volvo        1.151758   0.000000  1.290830      NaN  0.212047      NaN   \n",
      "\n",
      "                 buick  cadillac  chevrolet  chrysler    ...        porsche  \\\n",
      "acura         0.000000  0.103371   0.124446  0.023541    ...       0.144022   \n",
      "alfaromeo     1.367715  0.312516   1.128697  0.000000    ...       1.306245   \n",
      "audi          1.982419  0.550038   0.272663  0.000000    ...       2.253954   \n",
      "bentley            NaN       NaN        NaN       NaN    ...            NaN   \n",
      "bmw           0.737709  0.374583   1.217577  0.028790    ...       1.565674   \n",
      "bugatti            NaN       NaN        NaN       NaN    ...            NaN   \n",
      "buick         0.000000  3.952404   0.570988  0.162016    ...       2.643225   \n",
      "cadillac      2.845731  0.000000   1.957015  0.000000    ...       1.207926   \n",
      "chevrolet     7.993832  1.304677   0.000000  0.267405    ...       3.817279   \n",
      "chrysler      2.268222  0.999533   1.738132  0.000000    ...       0.618937   \n",
      "dodge         5.114066  1.947561   6.330519  1.796263    ...       0.814037   \n",
      "ford          0.000000  0.000000   0.000000  0.000000    ...       0.000000   \n",
      "gm            5.456762  4.017598   6.004204  1.277754    ...       2.316228   \n",
      "honda         1.675019  0.680414   0.230383  0.021790    ...       1.155366   \n",
      "hyundai       0.705741  0.268763   0.064712  0.018362    ...       0.748914   \n",
      "hyundai kia        NaN       NaN        NaN       NaN    ...            NaN   \n",
      "infiniti      0.807484  0.246008   0.333185  0.063027    ...       1.670918   \n",
      "jaguar        0.000000  0.000000   0.591878  0.000000    ...       1.369964   \n",
      "kia           0.588118  0.571122   1.456019  3.614979    ...       1.263792   \n",
      "lamborghini        NaN       NaN        NaN       NaN    ...            NaN   \n",
      "lexus         6.534641  1.764608   0.490242  0.069552    ...       3.404154   \n",
      "lincoln       2.557033  0.194756   0.000000  0.000000    ...       0.000000   \n",
      "mazda         0.000000  0.000000   0.570988  0.162016    ...       0.660806   \n",
      "mercedes      3.267320  2.598047   1.725653  0.397839    ...       3.494931   \n",
      "mercury      17.643529  0.000000   9.706796  0.000000    ...       0.000000   \n",
      "mitsubishi    0.000000  0.000000   0.000000  0.000000    ...       1.123371   \n",
      "nissan        0.435643  0.398168   1.438044  0.000000    ...       2.080316   \n",
      "pontiac       9.047964  0.000000  11.200149  0.000000    ...       0.000000   \n",
      "porsche       0.660806  1.358916   0.000000  0.154734    ...       0.000000   \n",
      "saab          0.000000  0.244330   0.000000  0.000000    ...       1.021246   \n",
      "saturn        0.000000  0.000000   0.000000  0.000000    ...      18.722846   \n",
      "skoda        11.762353  2.687634   0.000000  0.000000    ...      11.233708   \n",
      "subaru        0.996810  0.170824   0.205652  0.000000    ...       0.952009   \n",
      "suzuki        0.000000  0.000000   0.000000  0.000000    ...       0.000000   \n",
      "tesla         0.000000  0.000000   1.866692  0.000000    ...       2.160328   \n",
      "toyota        1.411482  1.505075   3.494447  1.542391    ...       2.696090   \n",
      "volkswagen    0.540384  0.041158   1.040545  0.021089    ...       1.290242   \n",
      "volvo         1.022813  0.467415   1.266104  0.000000    ...       2.442110   \n",
      "\n",
      "                  saab     saturn     skoda    subaru  suzuki     tesla  \\\n",
      "acura         0.000000   1.424217  0.000000  0.000000     0.0  0.164333   \n",
      "alfaromeo     2.113742   0.000000  0.000000  0.985219     0.0  0.000000   \n",
      "audi          0.218838   1.337346  0.802408  1.003010     0.0  0.000000   \n",
      "bentley            NaN        NaN       NaN       NaN     NaN       NaN   \n",
      "bmw           0.000000   1.161208  0.000000  0.605206     0.0  0.267971   \n",
      "bugatti            NaN        NaN       NaN       NaN     NaN       NaN   \n",
      "buick         0.000000  19.603922  0.000000  0.747607     0.0  2.261991   \n",
      "cadillac      0.000000   4.479391  0.000000  0.797180     0.0  0.516853   \n",
      "chevrolet     0.000000   0.000000  0.000000  1.028262     0.0  1.866692   \n",
      "chrysler      0.250388   4.590450  0.000000  0.641885     0.0  0.000000   \n",
      "dodge         0.000000   0.000000  0.000000  1.227954     0.0  2.786511   \n",
      "ford          0.000000   0.000000  0.000000  0.000000     0.0  0.896360   \n",
      "gm            0.937020   0.000000  0.000000  1.091866     0.0  0.000000   \n",
      "honda         0.143815   0.000000  0.000000  0.502742     0.0  0.304223   \n",
      "hyundai       0.242376   0.000000  0.000000  0.367158     0.0  1.281795   \n",
      "hyundai kia        NaN        NaN       NaN       NaN     NaN       NaN   \n",
      "infiniti      0.000000   0.000000  0.000000  0.000000     0.0  0.000000   \n",
      "jaguar        0.000000   0.000000  0.000000  0.000000     0.0  0.000000   \n",
      "kia           0.000000   0.000000  0.000000  0.476600     0.0  0.000000   \n",
      "lamborghini        NaN        NaN       NaN       NaN     NaN       NaN   \n",
      "lexus         0.459045   0.000000  0.000000  1.711693     0.0  0.000000   \n",
      "lincoln       0.000000   0.000000  0.000000  0.000000     0.0  0.000000   \n",
      "mazda         0.000000   0.000000  0.000000  0.000000     0.0  0.000000   \n",
      "mercedes      1.211879   3.702963  0.000000  1.082646     0.0  2.990855   \n",
      "mercury       0.000000   0.000000  0.000000  2.118220     0.0  0.000000   \n",
      "mitsubishi    0.000000   0.000000  0.000000  0.000000     0.0  0.000000   \n",
      "nissan       32.990034   0.000000  0.000000  0.627621     0.0  0.000000   \n",
      "pontiac       0.000000   0.000000  0.000000  3.258801     0.0  0.000000   \n",
      "porsche       0.000000   0.000000  0.000000  0.476005     0.0  0.000000   \n",
      "saab          0.000000   0.000000  0.000000  0.000000     0.0  0.000000   \n",
      "saturn        0.000000   0.000000  0.000000  0.000000     0.0  0.000000   \n",
      "skoda         0.000000   0.000000  0.000000  0.000000     0.0  0.000000   \n",
      "subaru        0.000000   7.060734  0.000000  0.000000     0.0  0.000000   \n",
      "suzuki        0.000000   0.000000  0.000000  4.236441     0.0  0.000000   \n",
      "tesla         0.000000   0.000000  0.000000  0.000000     0.0  0.000000   \n",
      "toyota        2.181382   0.000000  0.000000  0.847288     0.0  0.000000   \n",
      "volkswagen    0.000000   0.000000  0.000000  1.232655     0.0  0.000000   \n",
      "volvo         0.000000   0.000000  0.000000  1.105158     0.0  0.000000   \n",
      "\n",
      "               toyota  volkswagen      volvo  \n",
      "acura        0.000000    0.000000   0.780223  \n",
      "alfaromeo    0.000000    0.356067   2.021840  \n",
      "audi         0.224674    1.370114   0.697746  \n",
      "bentley           NaN         NaN        NaN  \n",
      "bmw          0.167214    0.634841   1.726666  \n",
      "bugatti           NaN         NaN        NaN  \n",
      "buick        1.411482    0.810576   6.136880  \n",
      "cadillac     0.322516    0.596795   2.804488  \n",
      "chevrolet    0.776544    0.297299   0.000000  \n",
      "chrysler     0.550854    5.947199   0.718505  \n",
      "dodge        1.738783    1.220432   1.259987  \n",
      "ford         0.000000    0.000000   0.303983  \n",
      "gm           0.000000    0.710298   0.896280  \n",
      "honda        0.885899    0.472408   0.206343  \n",
      "hyundai      0.373259    0.316425   0.927351  \n",
      "hyundai kia       NaN         NaN        NaN  \n",
      "infiniti     0.000000    0.000000   0.895254  \n",
      "jaguar       0.000000    0.000000   1.060233  \n",
      "kia          0.199960    5.473637   0.978065  \n",
      "lamborghini       NaN         NaN        NaN  \n",
      "lexus        3.029697    0.309311   2.854062  \n",
      "lincoln      0.000000    0.000000   3.779962  \n",
      "mazda        0.000000    0.000000   0.000000  \n",
      "mercedes     1.333067    0.986701   3.284367  \n",
      "mercury      0.000000    3.827718   0.000000  \n",
      "mitsubishi   0.000000    0.000000   0.000000  \n",
      "nissan       0.592474    4.423141   0.965990  \n",
      "pontiac      0.000000    0.000000   0.000000  \n",
      "porsche      0.000000    0.516097   1.465266  \n",
      "saab         0.000000    6.959488   0.000000  \n",
      "saturn       0.000000    2.551812   0.000000  \n",
      "skoda        0.000000    7.655436  17.387826  \n",
      "subaru       0.508373    3.438459   0.552579  \n",
      "suzuki       0.000000    1.531087   0.000000  \n",
      "tesla        0.000000    0.000000   0.000000  \n",
      "toyota       0.000000    1.837305   1.043270  \n",
      "volkswagen   0.000000    0.000000   0.998535  \n",
      "volvo        0.000000    0.000000   0.000000  \n",
      "\n",
      "[38 rows x 38 columns]\n"
     ]
    }
   ],
   "source": [
    "#Visualize in DataFrame\n",
    "similarities = DataFrame(data=mtx, index=brand_list, columns=brand_list)\n",
    "print(similarities)"
   ]
  },
  {
   "cell_type": "markdown",
   "metadata": {},
   "source": [
    "lift matrix of top 10 brands"
   ]
  },
  {
   "cell_type": "code",
   "execution_count": 181,
   "metadata": {},
   "outputs": [],
   "source": [
    "top_brand_l=[]\n",
    "for (key,value) in top_brands:\n",
    "    top_brand_l.append(key)\n",
    "\n",
    "top_brand_list = top_brand_l[0:10]"
   ]
  },
  {
   "cell_type": "code",
   "execution_count": 204,
   "metadata": {},
   "outputs": [],
   "source": [
    "d = list(itertools.product(top_brand_list,repeat=2))\n",
    "e = DataFrame(index=range(len(d)), data={'pairs':d, 'count':0*len(d)})\n",
    "f = DataFrame(index=range(len(top_brand_list)), data={'brands':top_brand_list, 'count':0*len(top_brand_list)})"
   ]
  },
  {
   "cell_type": "code",
   "execution_count": 206,
   "metadata": {},
   "outputs": [],
   "source": [
    "def brand_detect(d):\n",
    "    bd = []\n",
    "    for x in d:\n",
    "        if x in top_brand_list:\n",
    "            brand_mentioned = x\n",
    "            bd.append(brand_mentioned)\n",
    "    return bd\n",
    "\n",
    "temp['top_pairs'] = temp['final_comments'].apply(brand_detect).apply(brand_combination)"
   ]
  },
  {
   "cell_type": "code",
   "execution_count": 207,
   "metadata": {},
   "outputs": [],
   "source": [
    "top_pair_list =[]\n",
    "\n",
    "for i in range(len(temp)):\n",
    "    top_pair_list+= temp['top_pairs'][i]"
   ]
  },
  {
   "cell_type": "code",
   "execution_count": 208,
   "metadata": {},
   "outputs": [
    {
     "name": "stderr",
     "output_type": "stream",
     "text": [
      "C:\\Users\\carol\\Anaconda3\\lib\\site-packages\\ipykernel_launcher.py:3: SettingWithCopyWarning: \n",
      "A value is trying to be set on a copy of a slice from a DataFrame\n",
      "\n",
      "See the caveats in the documentation: http://pandas.pydata.org/pandas-docs/stable/indexing.html#indexing-view-versus-copy\n",
      "  This is separate from the ipykernel package so we can avoid doing imports until\n"
     ]
    }
   ],
   "source": [
    "for t in range(len(e)):\n",
    "    tp_count = top_pair_list.count(e['pairs'][t])\n",
    "    e['count'][t] = tp_count"
   ]
  },
  {
   "cell_type": "code",
   "execution_count": 227,
   "metadata": {},
   "outputs": [],
   "source": [
    "i = g[g['pairs']==('kia', 'infiniti')].index.values\n",
    "j = g[g['pairs']==('infiniti', 'kia')].index.values\n",
    "g['count'].loc[i]= (g['count'].loc[i]+g['count'].loc[j])\n",
    "g['count'].loc[j]= (g['count'].loc[i]+g['count'].loc[j])"
   ]
  },
  {
   "cell_type": "code",
   "execution_count": 232,
   "metadata": {},
   "outputs": [
    {
     "data": {
      "text/plain": [
       "317"
      ]
     },
     "execution_count": 232,
     "metadata": {},
     "output_type": "execute_result"
    }
   ],
   "source": [
    "e['count'].loc[1]"
   ]
  },
  {
   "cell_type": "code",
   "execution_count": 229,
   "metadata": {},
   "outputs": [
    {
     "name": "stderr",
     "output_type": "stream",
     "text": [
      "C:\\Users\\carol\\Anaconda3\\lib\\site-packages\\pandas\\core\\indexing.py:189: SettingWithCopyWarning: \n",
      "A value is trying to be set on a copy of a slice from a DataFrame\n",
      "\n",
      "See the caveats in the documentation: http://pandas.pydata.org/pandas-docs/stable/indexing.html#indexing-view-versus-copy\n",
      "  self._setitem_with_indexer(indexer, value)\n"
     ]
    }
   ],
   "source": [
    "import copy\n",
    "g = copy.deepcopy(e)\n",
    "\n",
    "for (b1,b2) in g['pairs']:\n",
    "    i = e[e['pairs']==(b1, b2)].index.values\n",
    "    j = e[e['pairs']==(b2, b1)].index.values\n",
    "    g['count'].loc[i]= e['count'].loc[i]+e['count'].loc[j]\n",
    "    g['count'].loc[j]= e['count'].loc[i]+e['count'].loc[j]"
   ]
  },
  {
   "cell_type": "code",
   "execution_count": 219,
   "metadata": {},
   "outputs": [
    {
     "data": {
      "text/plain": [
       "1   NaN\n",
       "Name: count, dtype: float64"
      ]
     },
     "execution_count": 219,
     "metadata": {},
     "output_type": "execute_result"
    }
   ],
   "source": [
    "g[g['pairs']==('bmw','audi')]['count']#+g['count'][g['pairs']=='('audi','bmw')']"
   ]
  },
  {
   "cell_type": "code",
   "execution_count": 186,
   "metadata": {},
   "outputs": [
    {
     "name": "stderr",
     "output_type": "stream",
     "text": [
      "C:\\Users\\carol\\Anaconda3\\lib\\site-packages\\ipykernel_launcher.py:3: SettingWithCopyWarning: \n",
      "A value is trying to be set on a copy of a slice from a DataFrame\n",
      "\n",
      "See the caveats in the documentation: http://pandas.pydata.org/pandas-docs/stable/indexing.html#indexing-view-versus-copy\n",
      "  This is separate from the ipykernel package so we can avoid doing imports until\n"
     ]
    }
   ],
   "source": [
    "for i in range(len(f)):\n",
    "    tb_count = count.count(f['brands'][i])\n",
    "    f['count'][i] = tb_count\n",
    "    \n",
    "N=len(temp)"
   ]
  },
  {
   "cell_type": "code",
   "execution_count": 187,
   "metadata": {},
   "outputs": [],
   "source": [
    "#lift matrix of top brands\n",
    "tn = len(f)\n",
    "tmtx = [[0]*tn for i in range(tn)]\n",
    "for i in range(tn):\n",
    "    for j in range(tn):\n",
    "        tmtx[i][j] = (N*(e['count'].loc[(i*tn+j)]))/((f['count'].loc[i])*(f['count'].loc[j]))"
   ]
  },
  {
   "cell_type": "code",
   "execution_count": 188,
   "metadata": {},
   "outputs": [
    {
     "data": {
      "text/html": [
       "<div>\n",
       "<style scoped>\n",
       "    .dataframe tbody tr th:only-of-type {\n",
       "        vertical-align: middle;\n",
       "    }\n",
       "\n",
       "    .dataframe tbody tr th {\n",
       "        vertical-align: top;\n",
       "    }\n",
       "\n",
       "    .dataframe thead th {\n",
       "        text-align: right;\n",
       "    }\n",
       "</style>\n",
       "<table border=\"1\" class=\"dataframe\">\n",
       "  <thead>\n",
       "    <tr style=\"text-align: right;\">\n",
       "      <th></th>\n",
       "      <th>bmw</th>\n",
       "      <th>audi</th>\n",
       "      <th>acura</th>\n",
       "      <th>hyundai</th>\n",
       "      <th>volkswagen</th>\n",
       "      <th>honda</th>\n",
       "      <th>mercedes</th>\n",
       "      <th>infiniti</th>\n",
       "      <th>ford</th>\n",
       "      <th>kia</th>\n",
       "    </tr>\n",
       "  </thead>\n",
       "  <tbody>\n",
       "    <tr>\n",
       "      <th>bmw</th>\n",
       "      <td>0.000000</td>\n",
       "      <td>0.886283</td>\n",
       "      <td>0.905147</td>\n",
       "      <td>0.306559</td>\n",
       "      <td>0.634841</td>\n",
       "      <td>0.518134</td>\n",
       "      <td>0.000000</td>\n",
       "      <td>1.363157</td>\n",
       "      <td>1.226171</td>\n",
       "      <td>0.296108</td>\n",
       "    </tr>\n",
       "    <tr>\n",
       "      <th>audi</th>\n",
       "      <td>0.436152</td>\n",
       "      <td>0.000000</td>\n",
       "      <td>1.162462</td>\n",
       "      <td>0.663324</td>\n",
       "      <td>1.370114</td>\n",
       "      <td>0.755431</td>\n",
       "      <td>0.722167</td>\n",
       "      <td>1.542386</td>\n",
       "      <td>0.729462</td>\n",
       "      <td>1.785357</td>\n",
       "    </tr>\n",
       "    <tr>\n",
       "      <th>acura</th>\n",
       "      <td>0.041684</td>\n",
       "      <td>0.051436</td>\n",
       "      <td>0.000000</td>\n",
       "      <td>0.017091</td>\n",
       "      <td>0.000000</td>\n",
       "      <td>0.000000</td>\n",
       "      <td>0.075958</td>\n",
       "      <td>0.527970</td>\n",
       "      <td>0.029879</td>\n",
       "      <td>0.010682</td>\n",
       "    </tr>\n",
       "    <tr>\n",
       "      <th>hyundai</th>\n",
       "      <td>0.534156</td>\n",
       "      <td>0.037446</td>\n",
       "      <td>1.931238</td>\n",
       "      <td>0.000000</td>\n",
       "      <td>0.316425</td>\n",
       "      <td>0.000000</td>\n",
       "      <td>0.903523</td>\n",
       "      <td>0.198282</td>\n",
       "      <td>0.590402</td>\n",
       "      <td>0.416583</td>\n",
       "    </tr>\n",
       "    <tr>\n",
       "      <th>volkswagen</th>\n",
       "      <td>0.026674</td>\n",
       "      <td>1.050626</td>\n",
       "      <td>0.844061</td>\n",
       "      <td>0.296010</td>\n",
       "      <td>0.000000</td>\n",
       "      <td>0.617765</td>\n",
       "      <td>0.034024</td>\n",
       "      <td>0.648172</td>\n",
       "      <td>0.785173</td>\n",
       "      <td>0.000000</td>\n",
       "    </tr>\n",
       "    <tr>\n",
       "      <th>honda</th>\n",
       "      <td>0.391356</td>\n",
       "      <td>0.533246</td>\n",
       "      <td>1.947030</td>\n",
       "      <td>0.558960</td>\n",
       "      <td>0.472408</td>\n",
       "      <td>0.000000</td>\n",
       "      <td>0.492166</td>\n",
       "      <td>2.968441</td>\n",
       "      <td>0.829700</td>\n",
       "      <td>0.474589</td>\n",
       "    </tr>\n",
       "    <tr>\n",
       "      <th>mercedes</th>\n",
       "      <td>2.314674</td>\n",
       "      <td>1.381924</td>\n",
       "      <td>1.414722</td>\n",
       "      <td>0.681345</td>\n",
       "      <td>0.986701</td>\n",
       "      <td>0.861290</td>\n",
       "      <td>0.000000</td>\n",
       "      <td>1.906560</td>\n",
       "      <td>1.217058</td>\n",
       "      <td>0.805394</td>\n",
       "    </tr>\n",
       "    <tr>\n",
       "      <th>infiniti</th>\n",
       "      <td>0.063773</td>\n",
       "      <td>0.100990</td>\n",
       "      <td>0.889728</td>\n",
       "      <td>0.244040</td>\n",
       "      <td>0.000000</td>\n",
       "      <td>1.212717</td>\n",
       "      <td>0.127104</td>\n",
       "      <td>0.000000</td>\n",
       "      <td>0.559969</td>\n",
       "      <td>0.000000</td>\n",
       "    </tr>\n",
       "    <tr>\n",
       "      <th>ford</th>\n",
       "      <td>0.000000</td>\n",
       "      <td>0.000000</td>\n",
       "      <td>0.507937</td>\n",
       "      <td>0.015537</td>\n",
       "      <td>0.000000</td>\n",
       "      <td>0.000000</td>\n",
       "      <td>0.000000</td>\n",
       "      <td>0.159991</td>\n",
       "      <td>0.000000</td>\n",
       "      <td>0.029132</td>\n",
       "    </tr>\n",
       "    <tr>\n",
       "      <th>kia</th>\n",
       "      <td>0.426744</td>\n",
       "      <td>1.253762</td>\n",
       "      <td>0.448628</td>\n",
       "      <td>0.483237</td>\n",
       "      <td>5.473637</td>\n",
       "      <td>0.553687</td>\n",
       "      <td>0.055544</td>\n",
       "      <td>0.600566</td>\n",
       "      <td>1.223531</td>\n",
       "      <td>0.000000</td>\n",
       "    </tr>\n",
       "  </tbody>\n",
       "</table>\n",
       "</div>"
      ],
      "text/plain": [
       "                 bmw      audi     acura   hyundai  volkswagen     honda  \\\n",
       "bmw         0.000000  0.886283  0.905147  0.306559    0.634841  0.518134   \n",
       "audi        0.436152  0.000000  1.162462  0.663324    1.370114  0.755431   \n",
       "acura       0.041684  0.051436  0.000000  0.017091    0.000000  0.000000   \n",
       "hyundai     0.534156  0.037446  1.931238  0.000000    0.316425  0.000000   \n",
       "volkswagen  0.026674  1.050626  0.844061  0.296010    0.000000  0.617765   \n",
       "honda       0.391356  0.533246  1.947030  0.558960    0.472408  0.000000   \n",
       "mercedes    2.314674  1.381924  1.414722  0.681345    0.986701  0.861290   \n",
       "infiniti    0.063773  0.100990  0.889728  0.244040    0.000000  1.212717   \n",
       "ford        0.000000  0.000000  0.507937  0.015537    0.000000  0.000000   \n",
       "kia         0.426744  1.253762  0.448628  0.483237    5.473637  0.553687   \n",
       "\n",
       "            mercedes  infiniti      ford       kia  \n",
       "bmw         0.000000  1.363157  1.226171  0.296108  \n",
       "audi        0.722167  1.542386  0.729462  1.785357  \n",
       "acura       0.075958  0.527970  0.029879  0.010682  \n",
       "hyundai     0.903523  0.198282  0.590402  0.416583  \n",
       "volkswagen  0.034024  0.648172  0.785173  0.000000  \n",
       "honda       0.492166  2.968441  0.829700  0.474589  \n",
       "mercedes    0.000000  1.906560  1.217058  0.805394  \n",
       "infiniti    0.127104  0.000000  0.559969  0.000000  \n",
       "ford        0.000000  0.159991  0.000000  0.029132  \n",
       "kia         0.055544  0.600566  1.223531  0.000000  "
      ]
     },
     "execution_count": 188,
     "metadata": {},
     "output_type": "execute_result"
    }
   ],
   "source": [
    "tsimilarities = DataFrame(data=tmtx, index=top_brand_list, columns=top_brand_list)\n",
    "tsimilarities"
   ]
  },
  {
   "cell_type": "markdown",
   "metadata": {},
   "source": [
    "Draw MDS Plot-first similarity matrix"
   ]
  },
  {
   "cell_type": "code",
   "execution_count": 189,
   "metadata": {},
   "outputs": [
    {
     "name": "stdout",
     "output_type": "stream",
     "text": [
      "Populating the interactive namespace from numpy and matplotlib\n"
     ]
    },
    {
     "name": "stderr",
     "output_type": "stream",
     "text": [
      "C:\\Users\\carol\\Anaconda3\\lib\\site-packages\\IPython\\core\\magics\\pylab.py:160: UserWarning: pylab import has clobbered these variables: ['e', 'seed', 'copy', 'f']\n",
      "`%matplotlib` prevents importing * from pylab and numpy\n",
      "  \"\\n`%matplotlib` prevents importing * from pylab and numpy\"\n"
     ]
    }
   ],
   "source": [
    "import numpy as np\n",
    "from sklearn import manifold\n",
    "%pylab inline"
   ]
  },
  {
   "cell_type": "code",
   "execution_count": 200,
   "metadata": {},
   "outputs": [],
   "source": [
    "dissimilarity_matrix = 1/similarities\n",
    "np.fill_diagonal(dissimilarity_matrix.values, 1)\n",
    "\n",
    "tdissimilarity_matrix = 1/tsimilarities\n",
    "np.fill_diagonal(tdissimilarity_matrix.values, 1)\n",
    "tdissimilarity_matrix_1=tdissimilarity_matrix.replace(inf,1)"
   ]
  },
  {
   "cell_type": "code",
   "execution_count": 201,
   "metadata": {
    "scrolled": true
   },
   "outputs": [
    {
     "data": {
      "text/html": [
       "<div>\n",
       "<style scoped>\n",
       "    .dataframe tbody tr th:only-of-type {\n",
       "        vertical-align: middle;\n",
       "    }\n",
       "\n",
       "    .dataframe tbody tr th {\n",
       "        vertical-align: top;\n",
       "    }\n",
       "\n",
       "    .dataframe thead th {\n",
       "        text-align: right;\n",
       "    }\n",
       "</style>\n",
       "<table border=\"1\" class=\"dataframe\">\n",
       "  <thead>\n",
       "    <tr style=\"text-align: right;\">\n",
       "      <th></th>\n",
       "      <th>bmw</th>\n",
       "      <th>audi</th>\n",
       "      <th>acura</th>\n",
       "      <th>hyundai</th>\n",
       "      <th>volkswagen</th>\n",
       "      <th>honda</th>\n",
       "      <th>mercedes</th>\n",
       "      <th>infiniti</th>\n",
       "      <th>ford</th>\n",
       "      <th>kia</th>\n",
       "    </tr>\n",
       "  </thead>\n",
       "  <tbody>\n",
       "    <tr>\n",
       "      <th>bmw</th>\n",
       "      <td>1.000000</td>\n",
       "      <td>1.128308</td>\n",
       "      <td>1.104793</td>\n",
       "      <td>3.262016</td>\n",
       "      <td>1.575197</td>\n",
       "      <td>1.930003</td>\n",
       "      <td>1.000000</td>\n",
       "      <td>0.733591</td>\n",
       "      <td>0.815547</td>\n",
       "      <td>3.377146</td>\n",
       "    </tr>\n",
       "    <tr>\n",
       "      <th>audi</th>\n",
       "      <td>2.292779</td>\n",
       "      <td>1.000000</td>\n",
       "      <td>0.860243</td>\n",
       "      <td>1.507560</td>\n",
       "      <td>0.729866</td>\n",
       "      <td>1.323747</td>\n",
       "      <td>1.384721</td>\n",
       "      <td>0.648346</td>\n",
       "      <td>1.370874</td>\n",
       "      <td>0.560112</td>\n",
       "    </tr>\n",
       "    <tr>\n",
       "      <th>acura</th>\n",
       "      <td>23.989798</td>\n",
       "      <td>19.441488</td>\n",
       "      <td>1.000000</td>\n",
       "      <td>58.511702</td>\n",
       "      <td>1.000000</td>\n",
       "      <td>1.000000</td>\n",
       "      <td>13.165133</td>\n",
       "      <td>1.894045</td>\n",
       "      <td>33.468694</td>\n",
       "      <td>93.618724</td>\n",
       "    </tr>\n",
       "    <tr>\n",
       "      <th>hyundai</th>\n",
       "      <td>1.872114</td>\n",
       "      <td>26.705341</td>\n",
       "      <td>0.517803</td>\n",
       "      <td>1.000000</td>\n",
       "      <td>3.160309</td>\n",
       "      <td>1.000000</td>\n",
       "      <td>1.106779</td>\n",
       "      <td>5.043316</td>\n",
       "      <td>1.693760</td>\n",
       "      <td>2.400480</td>\n",
       "    </tr>\n",
       "    <tr>\n",
       "      <th>volkswagen</th>\n",
       "      <td>37.489698</td>\n",
       "      <td>0.951814</td>\n",
       "      <td>1.184749</td>\n",
       "      <td>3.378262</td>\n",
       "      <td>1.000000</td>\n",
       "      <td>1.618739</td>\n",
       "      <td>29.390878</td>\n",
       "      <td>1.542800</td>\n",
       "      <td>1.273605</td>\n",
       "      <td>1.000000</td>\n",
       "    </tr>\n",
       "    <tr>\n",
       "      <th>honda</th>\n",
       "      <td>2.555215</td>\n",
       "      <td>1.875308</td>\n",
       "      <td>0.513603</td>\n",
       "      <td>1.789037</td>\n",
       "      <td>2.116813</td>\n",
       "      <td>1.000000</td>\n",
       "      <td>2.031835</td>\n",
       "      <td>0.336877</td>\n",
       "      <td>1.205254</td>\n",
       "      <td>2.107088</td>\n",
       "    </tr>\n",
       "    <tr>\n",
       "      <th>mercedes</th>\n",
       "      <td>0.432026</td>\n",
       "      <td>0.723629</td>\n",
       "      <td>0.706853</td>\n",
       "      <td>1.467685</td>\n",
       "      <td>1.013479</td>\n",
       "      <td>1.161049</td>\n",
       "      <td>1.000000</td>\n",
       "      <td>0.524505</td>\n",
       "      <td>0.821654</td>\n",
       "      <td>1.241628</td>\n",
       "    </tr>\n",
       "    <tr>\n",
       "      <th>infiniti</th>\n",
       "      <td>15.680511</td>\n",
       "      <td>9.902017</td>\n",
       "      <td>1.123939</td>\n",
       "      <td>4.097695</td>\n",
       "      <td>1.000000</td>\n",
       "      <td>0.824595</td>\n",
       "      <td>7.867574</td>\n",
       "      <td>1.000000</td>\n",
       "      <td>1.785814</td>\n",
       "      <td>1.000000</td>\n",
       "    </tr>\n",
       "    <tr>\n",
       "      <th>ford</th>\n",
       "      <td>1.000000</td>\n",
       "      <td>1.000000</td>\n",
       "      <td>1.968747</td>\n",
       "      <td>64.362873</td>\n",
       "      <td>1.000000</td>\n",
       "      <td>1.000000</td>\n",
       "      <td>1.000000</td>\n",
       "      <td>6.250350</td>\n",
       "      <td>1.000000</td>\n",
       "      <td>34.326865</td>\n",
       "    </tr>\n",
       "    <tr>\n",
       "      <th>kia</th>\n",
       "      <td>2.343326</td>\n",
       "      <td>0.797600</td>\n",
       "      <td>2.229017</td>\n",
       "      <td>2.069379</td>\n",
       "      <td>0.182694</td>\n",
       "      <td>1.806076</td>\n",
       "      <td>18.003601</td>\n",
       "      <td>1.665095</td>\n",
       "      <td>0.817306</td>\n",
       "      <td>1.000000</td>\n",
       "    </tr>\n",
       "  </tbody>\n",
       "</table>\n",
       "</div>"
      ],
      "text/plain": [
       "                  bmw       audi     acura    hyundai  volkswagen     honda  \\\n",
       "bmw          1.000000   1.128308  1.104793   3.262016    1.575197  1.930003   \n",
       "audi         2.292779   1.000000  0.860243   1.507560    0.729866  1.323747   \n",
       "acura       23.989798  19.441488  1.000000  58.511702    1.000000  1.000000   \n",
       "hyundai      1.872114  26.705341  0.517803   1.000000    3.160309  1.000000   \n",
       "volkswagen  37.489698   0.951814  1.184749   3.378262    1.000000  1.618739   \n",
       "honda        2.555215   1.875308  0.513603   1.789037    2.116813  1.000000   \n",
       "mercedes     0.432026   0.723629  0.706853   1.467685    1.013479  1.161049   \n",
       "infiniti    15.680511   9.902017  1.123939   4.097695    1.000000  0.824595   \n",
       "ford         1.000000   1.000000  1.968747  64.362873    1.000000  1.000000   \n",
       "kia          2.343326   0.797600  2.229017   2.069379    0.182694  1.806076   \n",
       "\n",
       "             mercedes  infiniti       ford        kia  \n",
       "bmw          1.000000  0.733591   0.815547   3.377146  \n",
       "audi         1.384721  0.648346   1.370874   0.560112  \n",
       "acura       13.165133  1.894045  33.468694  93.618724  \n",
       "hyundai      1.106779  5.043316   1.693760   2.400480  \n",
       "volkswagen  29.390878  1.542800   1.273605   1.000000  \n",
       "honda        2.031835  0.336877   1.205254   2.107088  \n",
       "mercedes     1.000000  0.524505   0.821654   1.241628  \n",
       "infiniti     7.867574  1.000000   1.785814   1.000000  \n",
       "ford         1.000000  6.250350   1.000000  34.326865  \n",
       "kia         18.003601  1.665095   0.817306   1.000000  "
      ]
     },
     "execution_count": 201,
     "metadata": {},
     "output_type": "execute_result"
    }
   ],
   "source": [
    "tdissimilarity_matrix_1"
   ]
  },
  {
   "cell_type": "markdown",
   "metadata": {},
   "source": [
    "### From this part, Task E starts"
   ]
  },
  {
   "cell_type": "code",
   "execution_count": 326,
   "metadata": {},
   "outputs": [],
   "source": [
    "aspiration = pd.read_csv(\"C:/Users/carol/Downloads/aspiration.csv\")\n",
    "temp2 = copy.deepcopy(temp)"
   ]
  },
  {
   "cell_type": "markdown",
   "metadata": {},
   "source": [
    "We defined 'aspiring brand' as the brand people want to have but not have possessed yet. We first looked up synonyms of 'aspiring' and manually checked all the possible variation of each synonym.\n",
    "We choos to use phrases instead of single word because exceptions(for instance, 'leasing dream' doesn't imply 'aspiration').\n",
    "We also decided not to differentiate each synonym to the others because there is no clear semantic difference among them. Based on following list, we conducted lift analysis. Calculation is quite similar to aforewritten ones."
   ]
  },
  {
   "cell_type": "code",
   "execution_count": 334,
   "metadata": {},
   "outputs": [
    {
     "data": {
      "text/html": [
       "<div>\n",
       "<style scoped>\n",
       "    .dataframe tbody tr th:only-of-type {\n",
       "        vertical-align: middle;\n",
       "    }\n",
       "\n",
       "    .dataframe tbody tr th {\n",
       "        vertical-align: top;\n",
       "    }\n",
       "\n",
       "    .dataframe thead th {\n",
       "        text-align: right;\n",
       "    }\n",
       "</style>\n",
       "<table border=\"1\" class=\"dataframe\">\n",
       "  <thead>\n",
       "    <tr style=\"text-align: right;\">\n",
       "      <th></th>\n",
       "      <th>word</th>\n",
       "      <th>aspr</th>\n",
       "    </tr>\n",
       "  </thead>\n",
       "  <tbody>\n",
       "    <tr>\n",
       "      <th>0</th>\n",
       "      <td>dream car</td>\n",
       "      <td>aspiration</td>\n",
       "    </tr>\n",
       "    <tr>\n",
       "      <th>1</th>\n",
       "      <td>dreamed</td>\n",
       "      <td>aspiration</td>\n",
       "    </tr>\n",
       "    <tr>\n",
       "      <th>2</th>\n",
       "      <td>dreaming</td>\n",
       "      <td>aspiration</td>\n",
       "    </tr>\n",
       "    <tr>\n",
       "      <th>3</th>\n",
       "      <td>dream of</td>\n",
       "      <td>aspiration</td>\n",
       "    </tr>\n",
       "    <tr>\n",
       "      <th>4</th>\n",
       "      <td>dream to</td>\n",
       "      <td>aspiration</td>\n",
       "    </tr>\n",
       "    <tr>\n",
       "      <th>5</th>\n",
       "      <td>couldn't afford</td>\n",
       "      <td>aspiration</td>\n",
       "    </tr>\n",
       "    <tr>\n",
       "      <th>6</th>\n",
       "      <td>wish</td>\n",
       "      <td>aspiration</td>\n",
       "    </tr>\n",
       "    <tr>\n",
       "      <th>7</th>\n",
       "      <td>best</td>\n",
       "      <td>aspiration</td>\n",
       "    </tr>\n",
       "    <tr>\n",
       "      <th>8</th>\n",
       "      <td>love to have</td>\n",
       "      <td>aspiration</td>\n",
       "    </tr>\n",
       "    <tr>\n",
       "      <th>9</th>\n",
       "      <td>wanted to</td>\n",
       "      <td>aspiration</td>\n",
       "    </tr>\n",
       "    <tr>\n",
       "      <th>10</th>\n",
       "      <td>future car</td>\n",
       "      <td>aspiration</td>\n",
       "    </tr>\n",
       "  </tbody>\n",
       "</table>\n",
       "</div>"
      ],
      "text/plain": [
       "               word        aspr\n",
       "0         dream car  aspiration\n",
       "1           dreamed  aspiration\n",
       "2          dreaming  aspiration\n",
       "3          dream of  aspiration\n",
       "4          dream to  aspiration\n",
       "5   couldn't afford  aspiration\n",
       "6              wish  aspiration\n",
       "7              best  aspiration\n",
       "8      love to have  aspiration\n",
       "9         wanted to  aspiration\n",
       "10       future car  aspiration"
      ]
     },
     "execution_count": 334,
     "metadata": {},
     "output_type": "execute_result"
    }
   ],
   "source": [
    "aspiration"
   ]
  },
  {
   "cell_type": "code",
   "execution_count": 327,
   "metadata": {},
   "outputs": [],
   "source": [
    "def aspiring(s):\n",
    "    s = \" \".join(str(x) for x in s)\n",
    "    for i in aspiration['word'].index.values:\n",
    "        s = s.replace(aspiration['word'][i],aspiration['aspr'][i])\n",
    "    return s\n",
    "temp['comments_asp_replace'] = temp['final_comments'].apply(aspiring).apply(word_tokenize)"
   ]
  },
  {
   "cell_type": "code",
   "execution_count": 328,
   "metadata": {},
   "outputs": [],
   "source": [
    "asp_count = []\n",
    "for i in range(len(temp)):\n",
    "    asp_count+=temp['comments_asp_replace'][i]\n",
    "asp_freq = nltk.FreqDist(count)"
   ]
  },
  {
   "cell_type": "code",
   "execution_count": 329,
   "metadata": {},
   "outputs": [],
   "source": [
    "aspiring_df = pd.DataFrame(columns = aspiration['aspr'].unique())\n",
    "\n",
    "def aspiring_mentioned(item):\n",
    "    if asp in item:\n",
    "        return 1\n",
    "    else:\n",
    "        return 0\n",
    "\n",
    "for asp in aspiration['aspr'].unique():\n",
    "    aspiring_df[asp] = temp['comments_asp_replace'].apply(aspiring_mentioned)"
   ]
  },
  {
   "cell_type": "code",
   "execution_count": 330,
   "metadata": {},
   "outputs": [],
   "source": [
    "top_5_cars = ['bmw','audi','acura','mercedes','cadillac']\n",
    "asp_df = pd.DataFrame(columns = top_5_cars)\n",
    "\n",
    "def brand_mentioned(item):\n",
    "    if brand in item:\n",
    "        return 1\n",
    "    else:\n",
    "        return 0\n",
    "      \n",
    "for brand in top_5_cars:\n",
    "    asp_df[brand] = temp['final_comments'].apply(brand_mentioned)"
   ]
  },
  {
   "cell_type": "code",
   "execution_count": 331,
   "metadata": {},
   "outputs": [],
   "source": [
    "top_aspiration = aspiration['aspr'].unique()\n",
    "aspiring_df2=pd.DataFrame(columns = top_aspiration)\n",
    "\n",
    "for i in range(len(top_5_cars)):\n",
    "    asp_list = []\n",
    "    for j in range(len(aspiration['aspr'].unique())):\n",
    "        lift_brand_aspr = (((asp_df[top_5_cars[i]] + aspiring_df[top_aspiration[j]]) > 1).sum())/(asp_df[top_5_cars[i]].sum()*aspiring_df[top_aspiration[j]].sum())\n",
    "        lift_brand_aspr = lift_brand_aspr*len(aspiring_df)\n",
    "        aspiring_df2.loc[top_5_cars[i],top_aspiration[j]] = lift_brand_aspr"
   ]
  },
  {
   "cell_type": "code",
   "execution_count": 332,
   "metadata": {},
   "outputs": [
    {
     "name": "stdout",
     "output_type": "stream",
     "text": [
      "Below are the lift ratios between top 5 cars and top aspiring expression \n",
      "\n"
     ]
    },
    {
     "data": {
      "text/html": [
       "<div>\n",
       "<style scoped>\n",
       "    .dataframe tbody tr th:only-of-type {\n",
       "        vertical-align: middle;\n",
       "    }\n",
       "\n",
       "    .dataframe tbody tr th {\n",
       "        vertical-align: top;\n",
       "    }\n",
       "\n",
       "    .dataframe thead th {\n",
       "        text-align: right;\n",
       "    }\n",
       "</style>\n",
       "<table border=\"1\" class=\"dataframe\">\n",
       "  <thead>\n",
       "    <tr style=\"text-align: right;\">\n",
       "      <th></th>\n",
       "      <th>aspiration</th>\n",
       "    </tr>\n",
       "  </thead>\n",
       "  <tbody>\n",
       "    <tr>\n",
       "      <th>bmw</th>\n",
       "      <td>1.51357</td>\n",
       "    </tr>\n",
       "    <tr>\n",
       "      <th>audi</th>\n",
       "      <td>1.72933</td>\n",
       "    </tr>\n",
       "    <tr>\n",
       "      <th>acura</th>\n",
       "      <td>1.47333</td>\n",
       "    </tr>\n",
       "    <tr>\n",
       "      <th>mercedes</th>\n",
       "      <td>1.72379</td>\n",
       "    </tr>\n",
       "    <tr>\n",
       "      <th>cadillac</th>\n",
       "      <td>1.99256</td>\n",
       "    </tr>\n",
       "  </tbody>\n",
       "</table>\n",
       "</div>"
      ],
      "text/plain": [
       "         aspiration\n",
       "bmw         1.51357\n",
       "audi        1.72933\n",
       "acura       1.47333\n",
       "mercedes    1.72379\n",
       "cadillac    1.99256"
      ]
     },
     "execution_count": 332,
     "metadata": {},
     "output_type": "execute_result"
    }
   ],
   "source": [
    "print ('Below are the lift ratios between top 5 cars and top aspiring expression \\n')\n",
    "aspiring_df2"
   ]
  }
 ],
 "metadata": {
  "kernelspec": {
   "display_name": "Python 3",
   "language": "python",
   "name": "python3"
  },
  "language_info": {
   "codemirror_mode": {
    "name": "ipython",
    "version": 3
   },
   "file_extension": ".py",
   "mimetype": "text/x-python",
   "name": "python",
   "nbconvert_exporter": "python",
   "pygments_lexer": "ipython3",
   "version": "3.6.5"
  }
 },
 "nbformat": 4,
 "nbformat_minor": 2
}

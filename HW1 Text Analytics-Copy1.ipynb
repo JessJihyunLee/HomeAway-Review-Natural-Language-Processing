{
 "cells": [
  {
   "cell_type": "code",
   "execution_count": 1,
   "metadata": {},
   "outputs": [],
   "source": [
    "import pandas as pd\n",
    "import numpy as np \n",
    "import nltk\n",
    "import random\n",
    "#nltk.download()\n",
    "from string import punctuation\n",
    "nltk.download('wordnet')"
   ]
  },
  {
   "cell_type": "code",
   "execution_count": 2,
   "metadata": {},
   "outputs": [
    {
     "name": "stdout",
     "output_type": "stream",
     "text": [
      "[nltk_data] Downloading package stopwords to\n",
      "[nltk_data]     C:\\Users\\teeru\\AppData\\Roaming\\nltk_data...\n",
      "[nltk_data]   Package stopwords is already up-to-date!\n"
     ]
    }
   ],
   "source": [
    "from nltk.tokenize import word_tokenize\n",
    "nltk.download('stopwords')\n",
    "from nltk.corpus import stopwords\n",
    "stop_words = set (stopwords.words( 'english' ))"
   ]
  },
  {
   "cell_type": "code",
   "execution_count": 3,
   "metadata": {},
   "outputs": [],
   "source": [
    "random.seed(99)\n",
    "data = pd.read_csv(\"D:/UTA/Fall term/Text analytics/HW1/Train_rev1.csv\")\n",
    "df = data.sample(2500)"
   ]
  },
  {
   "cell_type": "code",
   "execution_count": 4,
   "metadata": {},
   "outputs": [],
   "source": [
    "tk =[]\n",
    "tk_fil =[]\n",
    "for sen in df['FullDescription']:\n",
    "    #make sentence lowercase\n",
    "    sen = sen.lower()\n",
    "    #remove punctuation\n",
    "    for p in punctuation:\n",
    "        sen=sen.replace(p,'') \n",
    "    txt = word_tokenize(sen)\n",
    "    tk += nltk.pos_tag(txt)\n",
    "    #remove stopwords\n",
    "    txt_fil = [word for word in txt if word not in stop_words]\n",
    "    tk_fil += nltk.pos_tag(txt_fil)"
   ]
  },
  {
   "cell_type": "code",
   "execution_count": 5,
   "metadata": {},
   "outputs": [
    {
     "name": "stdout",
     "output_type": "stream",
     "text": [
      "[(('and', 'CC'), 26885), (('the', 'DT'), 21163), (('to', 'TO'), 20579), (('a', 'DT'), 15458), (('of', 'IN'), 14481)]\n"
     ]
    }
   ],
   "source": [
    "from collections import Counter\n",
    "tk_lst = Counter(tk)\n",
    "print (tk_lst.most_common(5))"
   ]
  },
  {
   "cell_type": "code",
   "execution_count": 6,
   "metadata": {},
   "outputs": [
    {
     "name": "stdout",
     "output_type": "stream",
     "text": [
      "[(('experience', 'NN'), 3538), (('role', 'NN'), 2938), (('business', 'NN'), 2614), (('team', 'NN'), 2579), (('skills', 'NNS'), 2322)]\n"
     ]
    }
   ],
   "source": [
    "tk_lst_fil = Counter(tk_fil)\n",
    "print (tk_lst_fil.most_common(5))"
   ]
  },
  {
   "cell_type": "markdown",
   "metadata": {},
   "source": [
    "A2 . Does this data support Zipf’s law? Plot the most common 100 words in the data against the theoretical prediction of the law. For this question, do not remove stopwords. Also do not perform stemming or lemmatization"
   ]
  },
  {
   "cell_type": "code",
   "execution_count": null,
   "metadata": {},
   "outputs": [],
   "source": []
  },
  {
   "cell_type": "markdown",
   "metadata": {},
   "source": [
    "A3. If we remove stopwords and lemmatize the data, what are the 10 most common words? What are their frequencies?"
   ]
  },
  {
   "cell_type": "code",
   "execution_count": 18,
   "metadata": {},
   "outputs": [],
   "source": [
    "txt_lem =[]\n",
    "for sen in df['FullDescription']:\n",
    "    #make sentence lowercase\n",
    "    sen = sen.lower()\n",
    "    #remove punctuation\n",
    "    for p in punctuation:\n",
    "        sen=sen.replace(p,'') \n",
    "    txt_lem += word_tokenize(sen)\n",
    "#remove stopwords\n",
    "tk_lem = [word for word in txt_lem if word not in stop_words]"
   ]
  },
  {
   "cell_type": "code",
   "execution_count": 31,
   "metadata": {},
   "outputs": [],
   "source": [
    "wnl = nltk.WordNetLemmatizer()\n",
    "tk_lem_proc = [wnl.lemmatize(t) for t in tk_lem]"
   ]
  },
  {
   "cell_type": "code",
   "execution_count": 30,
   "metadata": {},
   "outputs": [
    {
     "name": "stdout",
     "output_type": "stream",
     "text": [
      "['experienced', 'senior', 'staff', 'nurse', 'ready', 'next', 'step', 'delivering', 'high', 'quality', 'service', 'well', 'supervising', 'developing', 'staff', 'membersyou', 'experience', 'senior', 'staff', 'nurse']\n"
     ]
    },
    {
     "name": "stderr",
     "output_type": "stream",
     "text": [
      "IOPub data rate exceeded.\n",
      "The notebook server will temporarily stop sending output\n",
      "to the client in order to avoid crashing it.\n",
      "To change this limit, set the config variable\n",
      "`--NotebookApp.iopub_data_rate_limit`.\n",
      "\n",
      "Current values:\n",
      "NotebookApp.iopub_data_rate_limit=1000000.0 (bytes/sec)\n",
      "NotebookApp.rate_limit_window=3.0 (secs)\n",
      "\n"
     ]
    }
   ],
   "source": [
    "print (tk_lem [:20])\n",
    "print ([wnl.lemmatize(t) for t in tk_lem[:20]])"
   ]
  },
  {
   "cell_type": "code",
   "execution_count": 22,
   "metadata": {},
   "outputs": [
    {
     "name": "stdout",
     "output_type": "stream",
     "text": [
      "377248\n",
      "377248\n"
     ]
    }
   ],
   "source": [
    "print (len(tk_lem_proc))\n",
    "print (len(tk_lem))"
   ]
  },
  {
   "cell_type": "code",
   "execution_count": 21,
   "metadata": {},
   "outputs": [
    {
     "name": "stdout",
     "output_type": "stream",
     "text": [
      "[('experience', 4155), ('role', 3152), ('team', 3144), ('client', 2911), ('work', 2821), ('business', 2726), ('service', 2521), ('skill', 2487), ('working', 2190), ('within', 2180)]\n"
     ]
    }
   ],
   "source": [
    "tk_lem_lst = Counter(tk_lem_proc)\n",
    "print (tk_lem_lst.most_common(10))"
   ]
  }
 ],
 "metadata": {
  "kernelspec": {
   "display_name": "Python 3",
   "language": "python",
   "name": "python3"
  },
  "language_info": {
   "codemirror_mode": {
    "name": "ipython",
    "version": 3
   },
   "file_extension": ".py",
   "mimetype": "text/x-python",
   "name": "python",
   "nbconvert_exporter": "python",
   "pygments_lexer": "ipython3",
   "version": "3.6.5"
  }
 },
 "nbformat": 4,
 "nbformat_minor": 2
}

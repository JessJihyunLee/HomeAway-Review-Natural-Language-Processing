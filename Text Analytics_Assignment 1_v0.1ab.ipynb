{
 "cells": [
  {
   "cell_type": "code",
   "execution_count": 43,
   "metadata": {},
   "outputs": [
    {
     "name": "stdout",
     "output_type": "stream",
     "text": [
      "Populating the interactive namespace from numpy and matplotlib\n"
     ]
    }
   ],
   "source": [
    "from pandas import Series, DataFrame\n",
    "import pandas as pd\n",
    "%pylab inline\n",
    "import csv\n",
    "from collections import Counter\n",
    "import random\n",
    "import nltk\n",
    "from nltk.tokenize import sent_tokenize, word_tokenize\n",
    "from string import punctuation\n",
    "from matplotlib import pyplot as plt\n",
    "import math\n",
    "import re\n",
    "from patsy import dmatrices\n",
    "from nltk.corpus import stopwords"
   ]
  },
  {
   "cell_type": "code",
   "execution_count": 2,
   "metadata": {},
   "outputs": [],
   "source": [
    "job_data = pd.read_csv('Train_rev1.csv')"
   ]
  },
  {
   "cell_type": "markdown",
   "metadata": {},
   "source": [
    "**Taking random 2500 data points**"
   ]
  },
  {
   "cell_type": "code",
   "execution_count": 4,
   "metadata": {},
   "outputs": [],
   "source": [
    "job_data = job_data.sample(n=2500, random_state = 99)"
   ]
  },
  {
   "cell_type": "markdown",
   "metadata": {},
   "source": [
    "A1. What are the top 5 parts of speech in the job descriptions? How frequently do they appear? How do these numbers change if you exclude stopwords? "
   ]
  },
  {
   "cell_type": "code",
   "execution_count": 41,
   "metadata": {},
   "outputs": [],
   "source": [
    "# Make Word corpus:\n",
    "job_data_list = job_data[\"FullDescription\"].tolist()"
   ]
  },
  {
   "cell_type": "code",
   "execution_count": 44,
   "metadata": {},
   "outputs": [],
   "source": [
    "tokenized_words = []\n",
    "for item in job_data_list:\n",
    "    words = []\n",
    "    words = nltk.word_tokenize(item.lower())\n",
    "    tokenized_words = tokenized_words + words"
   ]
  },
  {
   "cell_type": "code",
   "execution_count": 45,
   "metadata": {},
   "outputs": [],
   "source": [
    "tokenized_words_string = \" \".join(str(x) for x in tokenized_words)\n",
    "for p in punctuation:\n",
    "    tokenized_words_string=tokenized_words_string.replace(p,'')"
   ]
  },
  {
   "cell_type": "code",
   "execution_count": 46,
   "metadata": {},
   "outputs": [],
   "source": [
    "# POS Tagging\n",
    "job_descriptions_tagged = nltk.pos_tag(nltk.word_tokenize(tokenized_words_string))\n",
    "#tokenized_words_string"
   ]
  },
  {
   "cell_type": "code",
   "execution_count": 47,
   "metadata": {
    "collapsed": true
   },
   "outputs": [
    {
     "data": {
      "text/plain": [
       "[('NN', 156791), ('JJ', 70755), ('IN', 65478), ('DT', 50604), ('NNS', 50447)]"
      ]
     },
     "execution_count": 47,
     "metadata": {},
     "output_type": "execute_result"
    }
   ],
   "source": [
    "# Find the frequency of tags\n",
    "tag_fd = nltk.FreqDist(tag for (word, tag) in job_descriptions_tagged)\n",
    "tag_fd.most_common()[:5]"
   ]
  },
  {
   "cell_type": "markdown",
   "metadata": {},
   "source": [
    "The most common parts of speech with removing stop words are nouns, adjective, preposition, Determiner, and Noun plural"
   ]
  },
  {
   "cell_type": "code",
   "execution_count": 48,
   "metadata": {},
   "outputs": [],
   "source": [
    "# Remove stop words\n",
    "stop_words = set(stopwords.words('english'))\n",
    "word_tokenize = nltk.word_tokenize(tokenized_words_string)\n",
    "filtered_sentence = [w for w in word_tokenize if not w in stop_words]"
   ]
  },
  {
   "cell_type": "code",
   "execution_count": 49,
   "metadata": {},
   "outputs": [
    {
     "data": {
      "text/plain": [
       "[('NN', 151266), ('JJ', 72996), ('NNS', 49954), ('VBG', 25541), ('VBP', 16847)]"
      ]
     },
     "execution_count": 49,
     "metadata": {},
     "output_type": "execute_result"
    }
   ],
   "source": [
    "tokenized_words_without_stopwords = \" \".join(str(x) for x in filtered_sentence)\n",
    "\n",
    "job_descriptions_tagged_without_stopwords = nltk.pos_tag(nltk.word_tokenize(tokenized_words_without_stopwords))\n",
    "tag_fd = nltk.FreqDist(tag for (word, tag) in job_descriptions_tagged_without_stopwords)\n",
    "tag_fd.most_common()[:5]"
   ]
  },
  {
   "cell_type": "markdown",
   "metadata": {},
   "source": [
    "The top most frequent POS are now noun, adjective, plural noun, verb and verb - singular present"
   ]
  },
  {
   "cell_type": "markdown",
   "metadata": {},
   "source": [
    "A2. Does this data support Zipf’s law? Plot the most common 100 words in the data against the theoretical prediction of the law. For this question, do not remove stopwords. Also do not perform stemming or lemmatization. "
   ]
  },
  {
   "cell_type": "code",
   "execution_count": 50,
   "metadata": {},
   "outputs": [
    {
     "data": {
      "text/plain": [
       "Text(0,0.5,'Word Frequency')"
      ]
     },
     "execution_count": 50,
     "metadata": {},
     "output_type": "execute_result"
    },
    {
     "data": {
      "image/png": "[encoded data removed]",
      "text/plain": [
       "<Figure size 432x288 with 1 Axes>"
      ]
     },
     "metadata": {},
     "output_type": "display_data"
    }
   ],
   "source": [
    "all_words = nltk.FreqDist((nltk.word_tokenize(tokenized_words_string)))\n",
    "\n",
    "topwords = all_words.most_common(100)\n",
    "frequency = []\n",
    "for (word, freq) in topwords:\n",
    "    frequency.append(freq)\n",
    "\n",
    "frequency = pd.Series(frequency)\n",
    "\n",
    "# Get the observational rank\n",
    "word_ranking = frequency.rank(method = 'min',ascending =False)\n",
    "\n",
    "# Plot obseravtional and theoritical rank\n",
    "def theoretical_rank(freq):\n",
    "    # We will take the frequency of the words to calculate the theoritical rank using variation of Zipf's Law\n",
    "    rank = math.exp((-1)*(np.log(freq) - np.log(max(word_ranking)*min(frequency))))\n",
    "    return rank\n",
    "\n",
    "# get the theoretical ranks for the frequencies observed\n",
    "theoretical_rank = frequency.map(theoretical_rank)\n",
    "plt.scatter(word_ranking,frequency,color = 'blue', marker = 'x',label = 'Frequency vs observed rank')\n",
    "plt.scatter(theoretical_rank,frequency,color = 'red',marker = 'o',label = 'Frequency vs theoritical rank')\n",
    "plt.xlabel('Rank')\n",
    "plt.ylabel('Word Frequency')"
   ]
  },
  {
   "cell_type": "markdown",
   "metadata": {},
   "source": [
    "**A3. If we remove stopwords and lemmatize the data, what are the 10 most common words? What are their frequencies?**"
   ]
  },
  {
   "cell_type": "code",
   "execution_count": 51,
   "metadata": {
    "collapsed": true
   },
   "outputs": [
    {
     "data": {
      "text/plain": [
       "[('work', 5283),\n",
       " ('experience', 5118),\n",
       " ('role', 3163),\n",
       " ('team', 3060),\n",
       " ('client', 2996),\n",
       " ('business', 2864),\n",
       " ('service', 2444),\n",
       " ('skill', 2424),\n",
       " ('sale', 2212),\n",
       " ('within', 2181)]"
      ]
     },
     "execution_count": 51,
     "metadata": {},
     "output_type": "execute_result"
    }
   ],
   "source": [
    "from nltk.stem import WordNetLemmatizer\n",
    "from nltk.corpus import wordnet\n",
    "def get_pos( word ):\n",
    "    w_synsets = wordnet.synsets(word)\n",
    "\n",
    "    pos_counts = Counter()\n",
    "    pos_counts[\"n\"] = len(  [ item for item in w_synsets if item.pos()==\"n\"]  )\n",
    "    pos_counts[\"v\"] = len(  [ item for item in w_synsets if item.pos()==\"v\"]  )\n",
    "    pos_counts[\"a\"] = len(  [ item for item in w_synsets if item.pos()==\"a\"]  )\n",
    "    pos_counts[\"r\"] = len(  [ item for item in w_synsets if item.pos()==\"r\"]  )\n",
    "    \n",
    "    most_common_pos_list = pos_counts.most_common(3)\n",
    "    return most_common_pos_list[0][0]\n",
    "\n",
    "wordnet_lemmatizer = WordNetLemmatizer()\n",
    "word_lematized = [wordnet_lemmatizer.lemmatize(w,pos=get_pos(w)) for w in filtered_sentence] \n",
    "\n",
    "word_lematized_words = Counter(word_lematized)\n",
    "most_common_words = word_lematized_words.most_common()\n",
    "most_common_words[:10]"
   ]
  },
  {
   "cell_type": "markdown",
   "metadata": {},
   "source": [
    "The top words after removing stop words and stemming are work, experience, role, team, client, business, service, skill, sale and within"
   ]
  },
  {
   "cell_type": "markdown",
   "metadata": {},
   "source": [
    "## Part B (predict salary from job description; the idea here is to test the predictive power of text and compare it with that of numeric data)"
   ]
  },
  {
   "cell_type": "markdown",
   "metadata": {},
   "source": [
    "**Let us first create our data frame and clean up some of the data so that we can use it for prediction**"
   ]
  },
  {
   "cell_type": "markdown",
   "metadata": {},
   "source": [
    "Creating a column for high/low salaries - We wil consider the top 25th percentile ( >75th quantile) salaries as high and remainig as low salaries"
   ]
  },
  {
   "cell_type": "code",
   "execution_count": 122,
   "metadata": {},
   "outputs": [],
   "source": [
    "import warnings\n",
    "warnings.filterwarnings('ignore')\n",
    "job_data['Salary'] = 0\n",
    "job_data['Salary'][job_data['SalaryNormalized']> job_data['SalaryNormalized'].quantile(0.75)] = 1"
   ]
  },
  {
   "cell_type": "markdown",
   "metadata": {},
   "source": [
    "Let us convert the locations with high living costs to 1 and the other loctions to 0."
   ]
  },
  {
   "cell_type": "code",
   "execution_count": 123,
   "metadata": {},
   "outputs": [],
   "source": [
    "highlivingcost = ['oxford','uk','the city','greater london','central london','london','south east london',\\\n",
    "                  'winchester', 'cambridge', 'chichester', 'brighon and hove', 'bath', 'southhampton',\\\n",
    "                  'salisbury','canterbury','st albans', 'bristol','lichfield','truro','norwich','chelmsford',\\\n",
    "                  'exeter','york','leicester','gloucester']\n",
    "\n",
    "def living_cost(s):\n",
    "    if s.lower() in highlivingcost:\n",
    "        return 1\n",
    "    else:\n",
    "        return 0\n",
    "\n",
    "job_data['cost_of_living'] = job_data['LocationNormalized'].apply(living_cost)"
   ]
  },
  {
   "cell_type": "markdown",
   "metadata": {},
   "source": [
    "Let us clean the job descriptions to remove punctuations and numbers from textua data"
   ]
  },
  {
   "cell_type": "code",
   "execution_count": 124,
   "metadata": {},
   "outputs": [],
   "source": [
    "def removepunc(item):\n",
    "    for p in punctuation:\n",
    "        item = item.replace(p,'')\n",
    "    return item\n",
    "\n",
    "def remove_numbers(s):\n",
    "    return re.sub(\"\\S*\\d\\S*\", \"\", s).strip()\n",
    "\n",
    "def lowerize(x):\n",
    "    return x.lower()\n",
    "\n",
    "job_data['CleanDescription'] = job_data['FullDescription'].apply(removepunc).apply(lowerize).apply(remove_numbers)"
   ]
  },
  {
   "cell_type": "markdown",
   "metadata": {},
   "source": [
    "**B1. Ignore the job descriptions, and train a model to predict high/low salary from all the numeric columns, e.g., part time/full time, contract vs. others, type of job (a lot of dummy variables), location (instead of using a huge number of dummy variables, you can use a list of cities in England with highest cost of living, and create a 0/1 variable which is 1 if the job is in one of those cities, else 0). Use the Naïve Bayes classifier. What is the accuracy of your model?**   "
   ]
  },
  {
   "cell_type": "code",
   "execution_count": 125,
   "metadata": {},
   "outputs": [],
   "source": [
    "# Let us remove the columns which we do not need for the prediction \n",
    "job_data_for_prediction = job_data[['ContractType','ContractTime','Category','Salary',\\\n",
    "                                    'cost_of_living']]\n",
    "job_data_dummies = pd.get_dummies(job_data_for_prediction)\n",
    "column_names = job_data_dummies.loc[:, job_data_dummies.columns != 'Salary'].columns.values\n",
    "formula = 'Salary ~ 0 + {}'.format(' + '.join(['Q(\"{}\")'.format(x) for x in column_names]))\n",
    "\n",
    "Y, X = dmatrices(formula, job_data_dummies, return_type='dataframe')\n",
    "y = Y['Salary'].values\n",
    "\n",
    "#Split the data into train and test\n",
    "\n",
    "from sklearn.model_selection import train_test_split\n",
    "X_train, X_test, y_train, y_test = train_test_split(X, y, test_size=0.3,random_state = 99)"
   ]
  },
  {
   "cell_type": "markdown",
   "metadata": {},
   "source": [
    "**Baseline Accuracy**"
   ]
  },
  {
   "cell_type": "code",
   "execution_count": 126,
   "metadata": {
    "collapsed": true
   },
   "outputs": [
    {
     "data": {
      "text/plain": [
       "0.7813333333333333"
      ]
     },
     "execution_count": 126,
     "metadata": {},
     "output_type": "execute_result"
    }
   ],
   "source": [
    "(len(y_test) - y_test.sum()) / len(y_test)"
   ]
  },
  {
   "cell_type": "markdown",
   "metadata": {},
   "source": [
    "**Multinomial Naive Bayes**"
   ]
  },
  {
   "cell_type": "code",
   "execution_count": 127,
   "metadata": {
    "collapsed": true
   },
   "outputs": [
    {
     "name": "stdout",
     "output_type": "stream",
     "text": [
      "Accuracy of Numeric Only Model with Multinomial Naive Bayes is: 0.7826666666666666\n",
      "AUC of Numeric Only Model with Multinomial Naive Bayes is: 0.5513506201614916\n",
      "Confusion Matrix of Numeric Only Model with Multinomial Naive Bayes is:\n",
      " [[564  22]\n",
      " [141  23]]\n"
     ]
    }
   ],
   "source": [
    "from sklearn import naive_bayes\n",
    "model = naive_bayes.MultinomialNB()\n",
    "# Fit the model\n",
    "result = model.fit(X_train, y_train)\n",
    "# Predict the model on test data\n",
    "from sklearn import metrics\n",
    "prediction = model.predict(X_test)\n",
    "\n",
    "#Printing Accuracy, AUC and Confusion Matrix\n",
    "print ('Accuracy of Numeric Only Model with Multinomial Naive Bayes is:', metrics.accuracy_score(y_test, prediction))\n",
    "print ('AUC of Numeric Only Model with Multinomial Naive Bayes is:', metrics.roc_auc_score(y_test, prediction))\n",
    "print ('Confusion Matrix of Numeric Only Model with Multinomial Naive Bayes is:\\n',\\\n",
    "       metrics.confusion_matrix(y_test, prediction))"
   ]
  },
  {
   "cell_type": "markdown",
   "metadata": {},
   "source": [
    "**Bernoulli Naive Bayes**"
   ]
  },
  {
   "cell_type": "code",
   "execution_count": 128,
   "metadata": {
    "collapsed": true
   },
   "outputs": [
    {
     "name": "stdout",
     "output_type": "stream",
     "text": [
      "Accuracy of Numeric Only Model with Bernoulli Naive Bayes is: 0.7773333333333333\n",
      "AUC of Numeric Only Model with Bernoulli Naive Bayes is: 0.5742841088820445\n",
      "Confusion Matrix of Numeric Only Model with Bernoulli Naive Bayes is:\n",
      " [[548  38]\n",
      " [129  35]]\n"
     ]
    }
   ],
   "source": [
    "model = naive_bayes.BernoulliNB()\n",
    "# Fit the model\n",
    "result = model.fit(X_train, y_train)\n",
    "# Predict the model on test data\n",
    "from sklearn import metrics\n",
    "prediction = model.predict(X_test)\n",
    "\n",
    "#Printing Accuracy, AUC and Confusion Matrix\n",
    "print ('Accuracy of Numeric Only Model with Bernoulli Naive Bayes is:', metrics.accuracy_score(y_test, prediction))\n",
    "print ('AUC of Numeric Only Model with Bernoulli Naive Bayes is:', metrics.roc_auc_score(y_test, prediction))\n",
    "print ('Confusion Matrix of Numeric Only Model with Bernoulli Naive Bayes is:\\n',metrics.confusion_matrix(y_test, prediction))"
   ]
  },
  {
   "cell_type": "markdown",
   "metadata": {},
   "source": [
    "**B2. Create a classification model with all words and the bag-of-words approach. How accurate is the model (show the confusion matrix)?** \n",
    "\n",
    "**Also show the top 10 words (excluding stopwords) that are most indicative of (i) high salary, and (ii) low salary. **"
   ]
  },
  {
   "cell_type": "markdown",
   "metadata": {},
   "source": [
    "**Bernoulli Naive Bayes (Only Job Descriptions)**"
   ]
  },
  {
   "cell_type": "code",
   "execution_count": 129,
   "metadata": {},
   "outputs": [],
   "source": [
    "# Extracting top most common words (features)\n",
    "word_features =[]\n",
    "for (word,freq) in most_common_words:\n",
    "    word_features.append(word)\n",
    "word_top_features = word_features [:3000]"
   ]
  },
  {
   "cell_type": "code",
   "execution_count": 130,
   "metadata": {
    "collapsed": true
   },
   "outputs": [
    {
     "name": "stdout",
     "output_type": "stream",
     "text": [
      "Classifier accuracy percent: 78.26666666666667\n",
      "Most Informative Features\n",
      "           architectural = True                1 : 0      =     14.7 : 1.0\n",
      "                 ethical = True                1 : 0      =     12.7 : 1.0\n",
      "              enterprise = True                1 : 0      =     11.1 : 1.0\n",
      "                   stack = True                1 : 0      =     10.8 : 1.0\n",
      "                  devise = True                1 : 0      =     10.8 : 1.0\n",
      "                 startup = True                1 : 0      =     10.8 : 1.0\n",
      "               translate = True                1 : 0      =     10.8 : 1.0\n",
      "              sufficient = True                1 : 0      =     10.8 : 1.0\n",
      "                    tier = True                1 : 0      =     10.8 : 1.0\n",
      "               genuinely = True                1 : 0      =      8.8 : 1.0\n",
      "                 combine = True                1 : 0      =      8.8 : 1.0\n",
      "                   video = True                1 : 0      =      8.8 : 1.0\n",
      "                    feed = True                1 : 0      =      8.8 : 1.0\n",
      "                 feature = True                1 : 0      =      8.8 : 1.0\n",
      "                   agile = True                1 : 0      =      8.3 : 1.0\n",
      "             credibility = True                1 : 0      =      7.1 : 1.0\n",
      "               telephone = True                0 : 1      =      7.1 : 1.0\n",
      "          administrative = True                0 : 1      =      6.9 : 1.0\n",
      "                   pitch = True                1 : 0      =      6.9 : 1.0\n",
      "                     app = True                1 : 0      =      6.9 : 1.0\n",
      "                presales = True                1 : 0      =      6.9 : 1.0\n",
      "                     arm = True                1 : 0      =      6.9 : 1.0\n",
      "                 circuit = True                1 : 0      =      6.9 : 1.0\n",
      "             mathematics = True                1 : 0      =      6.9 : 1.0\n",
      "             stakeholder = True                1 : 0      =      6.6 : 1.0\n",
      "               induction = True                0 : 1      =      6.5 : 1.0\n",
      "             institution = True                1 : 0      =      6.5 : 1.0\n",
      "                 nuclear = True                1 : 0      =      6.5 : 1.0\n",
      "               architect = True                1 : 0      =      6.5 : 1.0\n",
      "                  relate = True                1 : 0      =      6.5 : 1.0\n",
      "              transition = True                1 : 0      =      6.5 : 1.0\n",
      "             methodology = True                1 : 0      =      6.5 : 1.0\n",
      "              connection = True                1 : 0      =      6.3 : 1.0\n",
      "                 absence = True                0 : 1      =      6.2 : 1.0\n",
      "             hardworking = True                0 : 1      =      6.2 : 1.0\n",
      "              deployment = True                1 : 0      =      6.1 : 1.0\n",
      "                 elderly = True                0 : 1      =      6.0 : 1.0\n",
      "                   hotel = True                0 : 1      =      5.8 : 1.0\n",
      "                purchase = True                0 : 1      =      5.8 : 1.0\n",
      "              contractor = True                1 : 0      =      5.7 : 1.0\n",
      "                   phone = True                0 : 1      =      5.7 : 1.0\n",
      "                   cycle = True                1 : 0      =      5.6 : 1.0\n",
      "                 vehicle = True                0 : 1      =      5.5 : 1.0\n",
      "              generalist = True                1 : 0      =      5.3 : 1.0\n",
      "                    mean = True                1 : 0      =      5.3 : 1.0\n",
      "                    span = True                1 : 0      =      5.3 : 1.0\n",
      "                  relish = True                1 : 0      =      5.3 : 1.0\n",
      "             feasibility = True                1 : 0      =      5.3 : 1.0\n",
      "                   embed = True                1 : 0      =      5.3 : 1.0\n",
      "                 premier = True                1 : 0      =      5.3 : 1.0\n",
      "None\n"
     ]
    }
   ],
   "source": [
    "job_data['description_jobcategory_tuple'] = list(zip(job_data.FullDescription, job_data.Salary))\n",
    "def find_features(s):\n",
    "    words = nltk.word_tokenize(s)\n",
    "    features = {}\n",
    "    for w in word_top_features:\n",
    "        features[w] = (w in words)\n",
    "    return features\n",
    "\n",
    "featuresets = [(find_features(rev),Salary) for (rev, Salary) in job_data['description_jobcategory_tuple']]\n",
    "training_set, testing_set, = train_test_split(featuresets, test_size=0.3, random_state=99)\n",
    "classifier = nltk.NaiveBayesClassifier.train(training_set)\n",
    "print(\"Classifier accuracy percent:\",(nltk.classify.accuracy(classifier, testing_set))*100)\n",
    "print (classifier.show_most_informative_features(50))"
   ]
  },
  {
   "cell_type": "markdown",
   "metadata": {},
   "source": [
    "Top words indicative of high salary are - architectural, ethical, enterprise, stack, devise, startup, translate, sufficient, tier, geniuenly"
   ]
  },
  {
   "cell_type": "markdown",
   "metadata": {},
   "source": [
    "Top 10 words indicative of low salary are - telephone, administrative, induction, absence, hardworking, elderly, hotel, purchase, phone, vehicle"
   ]
  },
  {
   "cell_type": "code",
   "execution_count": 131,
   "metadata": {
    "collapsed": true
   },
   "outputs": [
    {
     "name": "stdout",
     "output_type": "stream",
     "text": [
      "Confusion Matrix of Text Only Model with Bernoulli Naive Bayes is:\n",
      " [[479 107]\n",
      " [ 56 108]]\n"
     ]
    }
   ],
   "source": [
    "#Calculating the predicted salary for test data\n",
    "def predicted_salary(word_dict):\n",
    "    return classifier.classify(word_dict)\n",
    "\n",
    "salary_pred = [predicted_salary(word_dict) for (word_dict, Salary) in testing_set]\n",
    "salary_true = [Salary for (word_dict, Salary) in testing_set]\n",
    "\n",
    "#Creating confusion matrix\n",
    "from sklearn.metrics import confusion_matrix\n",
    "print ('Confusion Matrix of Text Only Model with Bernoulli Naive Bayes is:\\n',confusion_matrix(salary_true, salary_pred))  "
   ]
  },
  {
   "cell_type": "markdown",
   "metadata": {},
   "source": [
    "**B3. Train a “hybrid” model to predict high/low salary using both numeric and text data. Show the accuracy of the model.**"
   ]
  },
  {
   "cell_type": "code",
   "execution_count": 132,
   "metadata": {},
   "outputs": [],
   "source": [
    "from sklearn.feature_extraction.text import TfidfVectorizer\n",
    "vectorizer = TfidfVectorizer(sublinear_tf=True, max_df=0.5, analyzer='word', stop_words='english')\n",
    "job_description_words = vectorizer.fit_transform(job_data.pop('CleanDescription')).toarray()\n",
    "\n",
    "#Converting the tf-idf scores to 1's and 0's so that the word features can be used in Bernoullis Naive Bayes\n",
    "job_description_words = np.where(job_description_words > 0, 1, 0)\n",
    "word_features_df = pd.DataFrame(job_description_words, columns=vectorizer.get_feature_names())"
   ]
  },
  {
   "cell_type": "code",
   "execution_count": 133,
   "metadata": {
    "collapsed": true
   },
   "outputs": [
    {
     "name": "stdout",
     "output_type": "stream",
     "text": [
      "Accuracy of Hybrid Model with Bernoulli Naive Bayes is: 0.784\n",
      "AUC of Hybrid Model with Bernoulli Naive Bayes is: 0.6069070803762997\n",
      "Confusion Matrix of Hybrid Model with Bernoulli Naive Bayes is:\n",
      " [[540  44]\n",
      " [118  48]]\n"
     ]
    }
   ],
   "source": [
    "#Getting all the numeric variables\n",
    "numeric_variables = X.reset_index().drop(columns = 'index')\n",
    "\n",
    "#Combining the numerical and textual features into one data frame\n",
    "combined_df = pd.concat([word_features_df,numeric_variables],axis = 1)\n",
    "\n",
    "#Splitting the data into train and test\n",
    "random.seed(99)\n",
    "X_train, X_test, y_train, y_test = train_test_split(combined_df, y, test_size=0.3)\n",
    "model = naive_bayes.BernoulliNB()\n",
    "\n",
    "#Fit the model\n",
    "result = model.fit(X_train, y_train)\n",
    "\n",
    "#Predict the model on test data\n",
    "from sklearn import metrics\n",
    "prediction = model.predict(X_test)\n",
    "\n",
    "#Printing Accuracy, AUC and Confusion Matrix\n",
    "print ('Accuracy of Hybrid Model with Bernoulli Naive Bayes is:', metrics.accuracy_score(y_test, prediction))\n",
    "print ('AUC of Hybrid Model with Bernoulli Naive Bayes is:', metrics.roc_auc_score(y_test, prediction))\n",
    "print ('Confusion Matrix of Hybrid Model with Bernoulli Naive Bayes is:\\n',metrics.confusion_matrix(y_test, prediction))"
   ]
  }
 ],
 "metadata": {
  "kernelspec": {
   "display_name": "Python 3",
   "language": "python",
   "name": "python3"
  },
  "language_info": {
   "codemirror_mode": {
    "name": "ipython",
    "version": 3
   },
   "file_extension": ".py",
   "mimetype": "text/x-python",
   "name": "python",
   "nbconvert_exporter": "python",
   "pygments_lexer": "ipython3",
   "version": "3.6.5"
  }
 },
 "nbformat": 4,
 "nbformat_minor": 2
}

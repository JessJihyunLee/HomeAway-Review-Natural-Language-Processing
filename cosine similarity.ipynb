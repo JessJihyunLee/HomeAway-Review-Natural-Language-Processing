{
 "cells": [
  {
   "cell_type": "code",
   "execution_count": 1,
   "metadata": {},
   "outputs": [],
   "source": [
    "import csv\n",
    "import pandas as pd\n",
    "import nltk\n",
    "import numpy as np\n",
    "from nltk.tokenize import PunktSentenceTokenizer,RegexpTokenizer\n",
    "from nltk.corpus import stopwords\n",
    "from nltk.stem import WordNetLemmatizer\n",
    "from scipy import sparse\n",
    "from sklearn.feature_extraction.text import CountVectorizer\n",
    "from sklearn.metrics.pairwise import pairwise_distances\n",
    "import warnings"
   ]
  },
  {
   "cell_type": "code",
   "execution_count": 5,
   "metadata": {},
   "outputs": [
    {
     "name": "stdout",
     "output_type": "stream",
     "text": [
      "Number of rows with null values:\n",
      "19\n"
     ]
    }
   ],
   "source": [
    "#to ignore deprecation warnings\n",
    "warnings.filterwarnings(\"ignore\", category=DeprecationWarning) \n",
    "\n",
    "#Please use xlsx file format to read the data\n",
    "#I faced issues with csv\n",
    "prop_df=pd.read_csv(\"C:/Users/teeru/Downloads/property_descriptions.csv\")\n",
    "\n",
    "#checking for nulls if present any\n",
    "print(\"Number of rows with null values:\")\n",
    "print(prop_df.isnull().sum().sum())\n",
    "prop_df=prop_df.dropna() \n",
    "\n"
   ]
  },
  {
   "cell_type": "code",
   "execution_count": 6,
   "metadata": {},
   "outputs": [],
   "source": [
    "#reading the attributes file\n",
    "#check into the \"attributes.txt\" file for the proper format\n",
    "#each attribute has to be listed in a new line.\n",
    "attributes=list(line.strip() for line in open('C:/Users/teeru/Downloads/attribute0.txt'))\n",
    "attributes=\" \".join(attributes)"
   ]
  },
  {
   "cell_type": "code",
   "execution_count": 15,
   "metadata": {},
   "outputs": [],
   "source": [
    "# #merging attibutes to the review\n",
    "## Restaurant_review is the name of the column with review text.\n",
    "\n",
    "tempDataFrame=pd.DataFrame({'description':[attributes]})\n",
    "tempDataFrame=tempDataFrame.transpose()\n",
    "description_list1=prop_df['description']\n",
    "frames = [tempDataFrame, description_list1]\n",
    "result = pd.concat(frames)\n",
    "result.columns = ['Property description']\n",
    "result=result.reset_index()"
   ]
  },
  {
   "cell_type": "code",
   "execution_count": 18,
   "metadata": {},
   "outputs": [
    {
     "name": "stdout",
     "output_type": "stream",
     "text": [
      "The size of the vocabulary space:\n",
      "(189, 2275)\n"
     ]
    }
   ],
   "source": [
    "#building bag of words using frequency\n",
    "\n",
    "vec_words = CountVectorizer(decode_error='ignore')\n",
    "total_features_words = vec_words.fit_transform(result['Property description'])\n",
    "print(\"The size of the vocabulary space:\")\n",
    "print(total_features_words.shape)"
   ]
  },
  {
   "cell_type": "code",
   "execution_count": 21,
   "metadata": {},
   "outputs": [],
   "source": [
    "#Calculating pairwise cosine similarity\n",
    "\n",
    "subset_sparse = sparse.csr_matrix(total_features_words)\n",
    "total_features_review=subset_sparse\n",
    "total_features_attr=subset_sparse[0,]\n",
    "similarity=1-pairwise_distances(total_features_attr,total_features_review, metric='cosine')\n",
    "\n",
    "\n",
    "#Assigning the similarity score to dataframe\n",
    "# similarity=np.array(similarities[0]).reshape(-1,).tolist()\n",
    "similarity=pd.DataFrame(similarity)\n",
    "similarity=similarity.transpose()\n",
    "similarity.columns = ['similarity']\n",
    "similarity=similarity.drop(similarity.index[[0]])\n",
    "prop_df=prop_df.assign(similarity=similarity.values)\n",
    "\n",
    "#writing to an output file\n",
    "prop_df.to_excel(\"similarity_score0.xlsx\",index=False)"
   ]
  },
  {
   "cell_type": "markdown",
   "metadata": {},
   "source": [
    "# Topic 1"
   ]
  },
  {
   "cell_type": "code",
   "execution_count": 22,
   "metadata": {},
   "outputs": [],
   "source": [
    "attributes=list(line.strip() for line in open('C:/Users/teeru/Downloads/attribute1.txt'))\n",
    "attributes=\" \".join(attributes)"
   ]
  },
  {
   "cell_type": "code",
   "execution_count": 24,
   "metadata": {},
   "outputs": [
    {
     "name": "stdout",
     "output_type": "stream",
     "text": [
      "The size of the vocabulary space:\n",
      "(189, 2275)\n"
     ]
    }
   ],
   "source": [
    "tempDataFrame=pd.DataFrame({'description':[attributes]})\n",
    "tempDataFrame=tempDataFrame.transpose()\n",
    "description_list1=prop_df['description']\n",
    "frames = [tempDataFrame, description_list1]\n",
    "result = pd.concat(frames)\n",
    "result.columns = ['Property description']\n",
    "result=result.reset_index()\n",
    "vec_words = CountVectorizer(decode_error='ignore')\n",
    "total_features_words = vec_words.fit_transform(result['Property description'])\n",
    "print(\"The size of the vocabulary space:\")\n",
    "print(total_features_words.shape)\n",
    "\n",
    "#Calculating pairwise cosine similarity\n",
    "\n",
    "subset_sparse = sparse.csr_matrix(total_features_words)\n",
    "total_features_review=subset_sparse\n",
    "total_features_attr=subset_sparse[0,]\n",
    "similarity=1-pairwise_distances(total_features_attr,total_features_review, metric='cosine')\n",
    "\n",
    "\n",
    "#Assigning the similarity score to dataframe\n",
    "# similarity=np.array(similarities[0]).reshape(-1,).tolist()\n",
    "similarity=pd.DataFrame(similarity)\n",
    "similarity=similarity.transpose()\n",
    "similarity.columns = ['similarity']\n",
    "similarity=similarity.drop(similarity.index[[0]])\n",
    "prop_df=prop_df.assign(similarity=similarity.values)\n",
    "\n",
    "#writing to an output file\n",
    "prop_df.to_excel(\"similarity_score1.xlsx\",index=False)"
   ]
  },
  {
   "cell_type": "markdown",
   "metadata": {},
   "source": [
    "# Topic 2"
   ]
  },
  {
   "cell_type": "code",
   "execution_count": 25,
   "metadata": {},
   "outputs": [
    {
     "name": "stdout",
     "output_type": "stream",
     "text": [
      "The size of the vocabulary space:\n",
      "(189, 2275)\n"
     ]
    }
   ],
   "source": [
    "attributes=list(line.strip() for line in open('C:/Users/teeru/Downloads/attribute2.txt'))\n",
    "attributes=\" \".join(attributes)\n",
    "\n",
    "tempDataFrame=pd.DataFrame({'description':[attributes]})\n",
    "tempDataFrame=tempDataFrame.transpose()\n",
    "description_list1=prop_df['description']\n",
    "frames = [tempDataFrame, description_list1]\n",
    "result = pd.concat(frames)\n",
    "result.columns = ['Property description']\n",
    "result=result.reset_index()\n",
    "vec_words = CountVectorizer(decode_error='ignore')\n",
    "total_features_words = vec_words.fit_transform(result['Property description'])\n",
    "print(\"The size of the vocabulary space:\")\n",
    "print(total_features_words.shape)\n",
    "\n",
    "#Calculating pairwise cosine similarity\n",
    "\n",
    "subset_sparse = sparse.csr_matrix(total_features_words)\n",
    "total_features_review=subset_sparse\n",
    "total_features_attr=subset_sparse[0,]\n",
    "similarity=1-pairwise_distances(total_features_attr,total_features_review, metric='cosine')\n",
    "\n",
    "\n",
    "#Assigning the similarity score to dataframe\n",
    "# similarity=np.array(similarities[0]).reshape(-1,).tolist()\n",
    "similarity=pd.DataFrame(similarity)\n",
    "similarity=similarity.transpose()\n",
    "similarity.columns = ['similarity']\n",
    "similarity=similarity.drop(similarity.index[[0]])\n",
    "prop_df=prop_df.assign(similarity=similarity.values)\n",
    "\n",
    "#writing to an output file\n",
    "prop_df.to_excel(\"similarity_score2.xlsx\",index=False)"
   ]
  },
  {
   "cell_type": "markdown",
   "metadata": {},
   "source": [
    "# Topic 3"
   ]
  },
  {
   "cell_type": "code",
   "execution_count": 27,
   "metadata": {},
   "outputs": [
    {
     "name": "stdout",
     "output_type": "stream",
     "text": [
      "The size of the vocabulary space:\n",
      "(189, 2275)\n"
     ]
    }
   ],
   "source": [
    "ttributes=list(line.strip() for line in open('C:/Users/teeru/Downloads/attribute3.txt'))\n",
    "attributes=\" \".join(attributes)\n",
    "\n",
    "tempDataFrame=pd.DataFrame({'description':[attributes]})\n",
    "tempDataFrame=tempDataFrame.transpose()\n",
    "description_list1=prop_df['description']\n",
    "frames = [tempDataFrame, description_list1]\n",
    "result = pd.concat(frames)\n",
    "result.columns = ['Property description']\n",
    "result=result.reset_index()\n",
    "vec_words = CountVectorizer(decode_error='ignore')\n",
    "total_features_words = vec_words.fit_transform(result['Property description'])\n",
    "print(\"The size of the vocabulary space:\")\n",
    "print(total_features_words.shape)\n",
    "\n",
    "#Calculating pairwise cosine similarity\n",
    "\n",
    "subset_sparse = sparse.csr_matrix(total_features_words)\n",
    "total_features_review=subset_sparse\n",
    "total_features_attr=subset_sparse[0,]\n",
    "similarity=1-pairwise_distances(total_features_attr,total_features_review, metric='cosine')\n",
    "\n",
    "\n",
    "#Assigning the similarity score to dataframe\n",
    "# similarity=np.array(similarities[0]).reshape(-1,).tolist()\n",
    "similarity=pd.DataFrame(similarity)\n",
    "similarity=similarity.transpose()\n",
    "similarity.columns = ['similarity']\n",
    "similarity=similarity.drop(similarity.index[[0]])\n",
    "prop_df=prop_df.assign(similarity=similarity.values)\n",
    "\n",
    "#writing to an output file\n",
    "prop_df.to_excel(\"similarity_score3.xlsx\",index=False)"
   ]
  }
 ],
 "metadata": {
  "kernelspec": {
   "display_name": "Python 3",
   "language": "python",
   "name": "python3"
  },
  "language_info": {
   "codemirror_mode": {
    "name": "ipython",
    "version": 3
   },
   "file_extension": ".py",
   "mimetype": "text/x-python",
   "name": "python",
   "nbconvert_exporter": "python",
   "pygments_lexer": "ipython3",
   "version": "3.6.5"
  }
 },
 "nbformat": 4,
 "nbformat_minor": 2
}

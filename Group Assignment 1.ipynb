{
 "cells": [
  {
   "cell_type": "markdown",
   "metadata": {},
   "source": [
    "# Part A: Basic text mining\n",
    "\n",
    "#### A1. What are the top 5 parts of speech in the job descriptions? How frequently do they appear? How do these numbers change if you exclude stopwords?"
   ]
  },
  {
   "cell_type": "code",
   "execution_count": 2,
   "metadata": {},
   "outputs": [
    {
     "name": "stdout",
     "output_type": "stream",
     "text": [
      "[nltk_data] Downloading package punkt to C:\\Users\\Amy\n",
      "[nltk_data]     Dang\\AppData\\Roaming\\nltk_data...\n",
      "[nltk_data]   Package punkt is already up-to-date!\n",
      "[nltk_data] Downloading package averaged_perceptron_tagger to\n",
      "[nltk_data]     C:\\Users\\Amy Dang\\AppData\\Roaming\\nltk_data...\n",
      "[nltk_data]   Package averaged_perceptron_tagger is already up-to-\n",
      "[nltk_data]       date!\n",
      "[nltk_data] Downloading package stopwords to C:\\Users\\Amy\n",
      "[nltk_data]     Dang\\AppData\\Roaming\\nltk_data...\n",
      "[nltk_data]   Package stopwords is already up-to-date!\n"
     ]
    }
   ],
   "source": [
    "import nltk\n",
    "nltk.download('punkt')\n",
    "nltk.download('averaged_perceptron_tagger')\n",
    "nltk.download('stopwords')\n",
    "\n",
    "from nltk.corpus import stopwords \n",
    "stop_words = set (stopwords.words('english'))\n",
    "\n",
    "from string import punctuation\n",
    "\n",
    "from nltk.tokenize import word_tokenize, sent_tokenize\n",
    "\n",
    "from pandas import Series, DataFrame\n",
    "import pandas as pd"
   ]
  },
  {
   "cell_type": "code",
   "execution_count": 3,
   "metadata": {},
   "outputs": [
    {
     "data": {
      "text/plain": [
       "0    Engineering Systems Analyst Dorking Surrey Sal...\n",
       "1    Stress Engineer Glasgow Salary **** to **** We...\n",
       "2    Mathematical Modeller / Simulation Analyst / O...\n",
       "3    Engineering Systems Analyst / Mathematical Mod...\n",
       "4    Pioneer, Miser  Engineering Systems Analyst Do...\n",
       "Name: FullDescription, dtype: object"
      ]
     },
     "execution_count": 3,
     "metadata": {},
     "output_type": "execute_result"
    }
   ],
   "source": [
    "data = pd.read_csv(\"Train_rev1.csv\")\n",
    "data.head()\n",
    "\n",
    "fulldescription = data['FullDescription']\n",
    "fulldescription.head()"
   ]
  },
  {
   "cell_type": "code",
   "execution_count": 4,
   "metadata": {},
   "outputs": [],
   "source": [
    "#randomly select 2500 descriptions \n",
    "import random\n",
    "df = fulldescription.sample(2500, random_state=99) #without replacement is default\n",
    "\n",
    "# word tokenize descriptions, POS tagging\n",
    "tk = []\n",
    "tk_fil = []\n",
    "for sen in df:\n",
    "    #make sentence all lower case \n",
    "    sen = sen.lower() \n",
    "    #remove punctuation \n",
    "    for p in punctuation:\n",
    "        sen = sen.replace(p,'')\n",
    "    #tokenize to words\n",
    "    txt = word_tokenize(sen) \n",
    "    #pos tagging\n",
    "    tk += nltk.pos_tag(txt) \n",
    "    #remove stopwords\n",
    "    txt_fil = [word for word in txt if word not in stop_words]\n",
    "    #pos tagging (without stopwords)\n",
    "    tk_fil += nltk.pos_tag(txt_fil)"
   ]
  },
  {
   "cell_type": "code",
   "execution_count": 5,
   "metadata": {},
   "outputs": [
    {
     "name": "stdout",
     "output_type": "stream",
     "text": [
      "[('NN', 156622), ('JJ', 69815), ('IN', 65416), ('NNS', 50719), ('DT', 50570)]\n"
     ]
    }
   ],
   "source": [
    "#list, so can't do .value_counts()\n",
    "\n",
    "from collections import Counter \n",
    "\n",
    "tk_lst = Counter(tag for (word,tag) in tk)\n",
    "print (tk_lst.most_common(5))"
   ]
  },
  {
   "cell_type": "code",
   "execution_count": 6,
   "metadata": {},
   "outputs": [
    {
     "name": "stdout",
     "output_type": "stream",
     "text": [
      "[('NN', 151920), ('JJ', 71968), ('NNS', 50232), ('VBG', 25532), ('VBP', 16798)]\n"
     ]
    }
   ],
   "source": [
    "tk_lst_fil = Counter(tag for (word,tag) in tk_fil) \n",
    "print (tk_lst_fil.most_common(5))"
   ]
  },
  {
   "cell_type": "markdown",
   "metadata": {},
   "source": [
    "#### A2. Does this data support Zipf’s law? Plot the most common 100 words in the data against the theoretical prediction of the law. For this question, do not remove stopwords. Also do not perform stemming or lemmatization."
   ]
  },
  {
   "cell_type": "code",
   "execution_count": 10,
   "metadata": {},
   "outputs": [],
   "source": [
    "for sen in df:\n",
    "    #make sentence all lower case \n",
    "    sen = sen.lower() \n",
    "    #remove punctuation \n",
    "    for p in punctuation:\n",
    "        sen = sen.replace(p,'')\n",
    "    #tokenize to words\n",
    "    txt = word_tokenize(sen) \n",
    "    tk += txt \n",
    "    \n",
    "all_words = nltk.FreqDist(tk)"
   ]
  },
  {
   "cell_type": "code",
   "execution_count": 11,
   "metadata": {},
   "outputs": [],
   "source": [
    "# plot top 100 words and their rank\n",
    "topwords = all_words.most_common(100)\n",
    "frequency = []\n",
    "for (word, freq) in topwords:\n",
    "    frequency.append(freq)\n",
    "\n",
    "frequency = pd.Series(frequency)"
   ]
  },
  {
   "cell_type": "code",
   "execution_count": 12,
   "metadata": {},
   "outputs": [],
   "source": [
    "# get the observational rank\n",
    "word_ranking = frequency.rank(method = 'min',ascending =False)"
   ]
  },
  {
   "cell_type": "code",
   "execution_count": 13,
   "metadata": {},
   "outputs": [
    {
     "data": {
      "text/plain": [
       "Text(0,0.5,'Word Frequency')"
      ]
     },
     "execution_count": 13,
     "metadata": {},
     "output_type": "execute_result"
    },
    {
     "data": {
      "image/png": "[encoded data removed]",
      "text/plain": [
       "<Figure size 432x288 with 1 Axes>"
      ]
     },
     "metadata": {},
     "output_type": "display_data"
    }
   ],
   "source": [
    "import math \n",
    "import numpy as np\n",
    "from matplotlib import pyplot as plt\n",
    "\n",
    "# plot observational and theoretical rank \n",
    "def theoretical_rank(freq):\n",
    "    # We will take the frequency of the words to calculate the theoritical rank using variation of Zipf's Law\n",
    "    rank = math.exp((-1)*(np.log(freq) - np.log(max(word_ranking)*min(frequency))))\n",
    "    return rank\n",
    "\n",
    "# get the theoreticacl ranks for the frequencies observed \n",
    "theoretical_rank = frequency.map(theoretical_rank)\n",
    "plt.scatter(word_ranking,frequency,color = 'blue', marker = 'x',label = 'Frequency vs observed rank')\n",
    "plt.scatter(theoretical_rank,frequency,color = 'red',marker = 'o',label = 'Frequency vs theoritical rank')\n",
    "plt.xlabel('Rank')\n",
    "plt.ylabel('Word Frequency')"
   ]
  },
  {
   "cell_type": "code",
   "execution_count": 14,
   "metadata": {
    "scrolled": true
   },
   "outputs": [
    {
     "data": {
      "image/png": "[encoded data removed]",
      "text/plain": [
       "<Figure size 1440x720 with 1 Axes>"
      ]
     },
     "metadata": {},
     "output_type": "display_data"
    }
   ],
   "source": [
    "# calculate frequency\n",
    "# all_words\n",
    "\n",
    "# plot the top 100 against zipf's law\n",
    "plt.figure(figsize=(20,10))\n",
    "all_words.plot(100, cumulative=False)"
   ]
  },
  {
   "cell_type": "code",
   "execution_count": 16,
   "metadata": {
    "scrolled": true
   },
   "outputs": [
    {
     "name": "stderr",
     "output_type": "stream",
     "text": [
      "C:\\Users\\Amy Dang\\Anaconda2\\lib\\site-packages\\ipykernel_launcher.py:7: SettingWithCopyWarning: \n",
      "A value is trying to be set on a copy of a slice from a DataFrame.\n",
      "Try using .loc[row_indexer,col_indexer] = value instead\n",
      "\n",
      "See the caveats in the documentation: http://pandas.pydata.org/pandas-docs/stable/indexing.html#indexing-view-versus-copy\n",
      "  import sys\n",
      "C:\\Users\\Amy Dang\\Anaconda2\\lib\\site-packages\\ipykernel_launcher.py:8: SettingWithCopyWarning: \n",
      "A value is trying to be set on a copy of a slice from a DataFrame.\n",
      "Try using .loc[row_indexer,col_indexer] = value instead\n",
      "\n",
      "See the caveats in the documentation: http://pandas.pydata.org/pandas-docs/stable/indexing.html#indexing-view-versus-copy\n",
      "  \n"
     ]
    },
    {
     "data": {
      "text/html": [
       "<div>\n",
       "<style scoped>\n",
       "    .dataframe tbody tr th:only-of-type {\n",
       "        vertical-align: middle;\n",
       "    }\n",
       "\n",
       "    .dataframe tbody tr th {\n",
       "        vertical-align: top;\n",
       "    }\n",
       "\n",
       "    .dataframe thead th {\n",
       "        text-align: right;\n",
       "    }\n",
       "</style>\n",
       "<table border=\"1\" class=\"dataframe\">\n",
       "  <thead>\n",
       "    <tr style=\"text-align: right;\">\n",
       "      <th></th>\n",
       "      <th>word</th>\n",
       "      <th>frequency</th>\n",
       "      <th>rank</th>\n",
       "      <th>zipf_law</th>\n",
       "    </tr>\n",
       "  </thead>\n",
       "  <tbody>\n",
       "    <tr>\n",
       "      <th>0</th>\n",
       "      <td>and</td>\n",
       "      <td>53350</td>\n",
       "      <td>1.0</td>\n",
       "      <td>53350.000000</td>\n",
       "    </tr>\n",
       "    <tr>\n",
       "      <th>1</th>\n",
       "      <td>the</td>\n",
       "      <td>41618</td>\n",
       "      <td>2.0</td>\n",
       "      <td>26675.000000</td>\n",
       "    </tr>\n",
       "    <tr>\n",
       "      <th>2</th>\n",
       "      <td>to</td>\n",
       "      <td>40782</td>\n",
       "      <td>3.0</td>\n",
       "      <td>17783.333333</td>\n",
       "    </tr>\n",
       "    <tr>\n",
       "      <th>3</th>\n",
       "      <td>a</td>\n",
       "      <td>30722</td>\n",
       "      <td>4.0</td>\n",
       "      <td>13337.500000</td>\n",
       "    </tr>\n",
       "    <tr>\n",
       "      <th>4</th>\n",
       "      <td>of</td>\n",
       "      <td>28422</td>\n",
       "      <td>5.0</td>\n",
       "      <td>10670.000000</td>\n",
       "    </tr>\n",
       "    <tr>\n",
       "      <th>5</th>\n",
       "      <td>(and, CC)</td>\n",
       "      <td>26675</td>\n",
       "      <td>6.0</td>\n",
       "      <td>8891.666667</td>\n",
       "    </tr>\n",
       "    <tr>\n",
       "      <th>6</th>\n",
       "      <td>in</td>\n",
       "      <td>20946</td>\n",
       "      <td>7.0</td>\n",
       "      <td>7621.428571</td>\n",
       "    </tr>\n",
       "    <tr>\n",
       "      <th>7</th>\n",
       "      <td>(the, DT)</td>\n",
       "      <td>20809</td>\n",
       "      <td>8.0</td>\n",
       "      <td>6668.750000</td>\n",
       "    </tr>\n",
       "    <tr>\n",
       "      <th>8</th>\n",
       "      <td>(to, TO)</td>\n",
       "      <td>20391</td>\n",
       "      <td>9.0</td>\n",
       "      <td>5927.777778</td>\n",
       "    </tr>\n",
       "    <tr>\n",
       "      <th>9</th>\n",
       "      <td>for</td>\n",
       "      <td>17518</td>\n",
       "      <td>10.0</td>\n",
       "      <td>5335.000000</td>\n",
       "    </tr>\n",
       "  </tbody>\n",
       "</table>\n",
       "</div>"
      ],
      "text/plain": [
       "        word  frequency  rank      zipf_law\n",
       "0        and      53350   1.0  53350.000000\n",
       "1        the      41618   2.0  26675.000000\n",
       "2         to      40782   3.0  17783.333333\n",
       "3          a      30722   4.0  13337.500000\n",
       "4         of      28422   5.0  10670.000000\n",
       "5  (and, CC)      26675   6.0   8891.666667\n",
       "6         in      20946   7.0   7621.428571\n",
       "7  (the, DT)      20809   8.0   6668.750000\n",
       "8   (to, TO)      20391   9.0   5927.777778\n",
       "9        for      17518  10.0   5335.000000"
      ]
     },
     "execution_count": 16,
     "metadata": {},
     "output_type": "execute_result"
    }
   ],
   "source": [
    "import operator \n",
    "# sorted by frequency \n",
    "sort_all_words = pd.DataFrame(sorted(all_words.items(), key=operator.itemgetter(1),reverse=True))\n",
    "\n",
    "most_common_100 = sort_all_words[:100]\n",
    "most_common_100.columns = ['word','frequency']\n",
    "most_common_100['rank'] = most_common_100['frequency'].rank(method='min',ascending=False)\n",
    "most_common_100['zipf_law'] = [most_common_100[\"frequency\"].max()/r for r in most_common_100['rank']]\n",
    "most_common_100[:10]"
   ]
  },
  {
   "cell_type": "code",
   "execution_count": 18,
   "metadata": {},
   "outputs": [
    {
     "data": {
      "image/png": "[encoded data removed]",
      "text/plain": [
       "<Figure size 432x288 with 1 Axes>"
      ]
     },
     "metadata": {},
     "output_type": "display_data"
    }
   ],
   "source": [
    "fig = plt.figure()\n",
    "\n",
    "x = [math.log(c) for c in most_common_100['rank'].values]\n",
    "y1 = [math.log(c) for c in most_common_100['frequency']]\n",
    "y2 = [math.log(c) for c in most_common_100['zipf_law']]\n",
    "\n",
    "ax1 = plt.plot(x,y1,label='Actual')\n",
    "ax2 = plt.plot(x,y2,label='Theorical')\n",
    "\n",
    "plt.xlabel(\"log(rank)\")\n",
    "plt.ylabel(\"log(frequency)\")\n",
    "plt.title('Top 100')\n",
    "plt.legend()\n",
    "plt.show()"
   ]
  },
  {
   "cell_type": "markdown",
   "metadata": {},
   "source": [
    "#### A3. If we remove stopwords and lemmatize the data, what are the 10 most common words? What are their frequencies?"
   ]
  },
  {
   "cell_type": "code",
   "execution_count": 38,
   "metadata": {},
   "outputs": [],
   "source": [
    "for sen in df:\n",
    "    #make sentence all lower case \n",
    "    sen = sen.lower() \n",
    "    #remove punctuation \n",
    "    for p in punctuation:\n",
    "        sen = sen.replace(p,'')\n",
    "    #tokenize to words\n",
    "    txt = word_tokenize(sen) \n",
    "    #pos tagging\n",
    "    tk += nltk.pos_tag(txt) \n",
    "    #remove stopwords\n",
    "    txt_fil += [word for word in txt if word not in stop_words]"
   ]
  },
  {
   "cell_type": "code",
   "execution_count": 39,
   "metadata": {},
   "outputs": [
    {
     "data": {
      "text/plain": [
       "[(u'work', 5284),\n",
       " (u'experience', 5117),\n",
       " ('role', 3162),\n",
       " ('team', 3057),\n",
       " ('client', 2961),\n",
       " ('business', 2862),\n",
       " ('service', 2444),\n",
       " (u'skill', 2421),\n",
       " (u'sale', 2211),\n",
       " ('within', 2183)]"
      ]
     },
     "execution_count": 39,
     "metadata": {},
     "output_type": "execute_result"
    }
   ],
   "source": [
    "from nltk.stem import WordNetLemmatizer\n",
    "from nltk.corpus import wordnet\n",
    "def get_pos( word ):\n",
    "    w_synsets = wordnet.synsets(word)\n",
    "\n",
    "    pos_counts = Counter()\n",
    "    pos_counts[\"n\"] = len(  [ item for item in w_synsets if item.pos()==\"n\"]  )\n",
    "    pos_counts[\"v\"] = len(  [ item for item in w_synsets if item.pos()==\"v\"]  )\n",
    "    pos_counts[\"a\"] = len(  [ item for item in w_synsets if item.pos()==\"a\"]  )\n",
    "    pos_counts[\"r\"] = len(  [ item for item in w_synsets if item.pos()==\"r\"]  )\n",
    "    \n",
    "    most_common_pos_list = pos_counts.most_common(3)\n",
    "    return most_common_pos_list[0][0]\n",
    "\n",
    "wordnet_lemmatizer = WordNetLemmatizer()\n",
    "word_lematized = [wordnet_lemmatizer.lemmatize(w,pos=get_pos(w)) for w in txt_fil] \n",
    "\n",
    "word_lematized_words = Counter(word_lematized)\n",
    "most_common_words = word_lematized_words.most_common()\n",
    "most_common_words[:10]"
   ]
  },
  {
   "cell_type": "markdown",
   "metadata": {},
   "source": [
    "# Part B: Predict salary from job description\n",
    "\n",
    "Test the predictive power of text and compare it with that of numeric data. \n",
    "\n",
    "In this section, you will create classification models to predict high (75th percentile and above) or low (below 75th percentile) salary from the text contained in the job descriptions."
   ]
  },
  {
   "cell_type": "markdown",
   "metadata": {},
   "source": [
    "#### B1. Ignore the job descriptions, and train a model to predict high/low salary from all the numeric columns, e.g., part time/full time, contract vs. others, type of job (a lot of dummy variables), location (instead of using a huge number of dummy variables, you can use a list of cities in England with highest cost of living, and create a 0/1 variable which is 1 if the job is in one of those cities, else 0). Use the Naïve Bayes classifier. What is the accuracy of your model?"
   ]
  },
  {
   "cell_type": "code",
   "execution_count": 40,
   "metadata": {
    "scrolled": false
   },
   "outputs": [
    {
     "data": {
      "text/plain": [
       "Id                     int64\n",
       "Title                 object\n",
       "FullDescription       object\n",
       "LocationRaw           object\n",
       "LocationNormalized    object\n",
       "ContractType          object\n",
       "ContractTime          object\n",
       "Company               object\n",
       "Category              object\n",
       "SalaryRaw             object\n",
       "SalaryNormalized       int64\n",
       "SourceName            object\n",
       "job_categories         int64\n",
       "cost_of_living         int64\n",
       "dtype: object"
      ]
     },
     "execution_count": 40,
     "metadata": {},
     "output_type": "execute_result"
    }
   ],
   "source": [
    "data.dtypes"
   ]
  },
  {
   "cell_type": "code",
   "execution_count": 41,
   "metadata": {
    "scrolled": true
   },
   "outputs": [
    {
     "data": {
      "text/plain": [
       "Id                         0\n",
       "Title                      1\n",
       "FullDescription            0\n",
       "LocationRaw                0\n",
       "LocationNormalized         0\n",
       "ContractType          179326\n",
       "ContractTime           63905\n",
       "Company                32430\n",
       "Category                   0\n",
       "SalaryRaw                  0\n",
       "SalaryNormalized           0\n",
       "SourceName                 1\n",
       "job_categories             0\n",
       "cost_of_living             0\n",
       "dtype: int64"
      ]
     },
     "execution_count": 41,
     "metadata": {},
     "output_type": "execute_result"
    }
   ],
   "source": [
    "# Checking for Null values\n",
    "data.isnull().sum()"
   ]
  },
  {
   "cell_type": "code",
   "execution_count": 42,
   "metadata": {},
   "outputs": [],
   "source": [
    "# create a column for high/low salaries\n",
    "# we will consider the top 25th percentile (>75th quantile) salaries as HIGH \n",
    "# and remaining as low salaries\n",
    "\n",
    "import warnings\n",
    "warnings.filterwarnings('ignore')\n",
    "data['job_categories'] = 0\n",
    "data['job_categories'][data['SalaryNormalized']> data['SalaryNormalized'].quantile(0.75)] = 1"
   ]
  },
  {
   "cell_type": "code",
   "execution_count": 43,
   "metadata": {},
   "outputs": [],
   "source": [
    "# convert the locations with high living costs to 1 and other locations as 0\n",
    "\n",
    "highlivingcost = ['oxford','uk','the city','greater london','central london','london','south east london',\\\n",
    "                  'winchester', 'cambridge', 'chichester', 'brighon and hove', 'bath', 'southhampton',\\\n",
    "                  'salisbury','canterbury','st albans', 'bristol','lichfield','truro','norwich','chelmsford',\\\n",
    "                  'exeter','york','leicester','gloucester']\n",
    "\n",
    "def living_cost(s):\n",
    "    if s.lower() in highlivingcost:\n",
    "        return 1\n",
    "    else:\n",
    "        return 0\n",
    "\n",
    "data['cost_of_living'] = data['LocationNormalized'].apply(living_cost)"
   ]
  },
  {
   "cell_type": "code",
   "execution_count": 45,
   "metadata": {},
   "outputs": [],
   "source": [
    "# Let us remove the columns which we do not need from the data frame.\n",
    "job_data_for_prediction = data[['ContractType','ContractTime','Category','job_categories','cost_of_living']]"
   ]
  },
  {
   "cell_type": "code",
   "execution_count": 46,
   "metadata": {},
   "outputs": [],
   "source": [
    "job_data_dummies = pd.get_dummies(job_data_for_prediction)\n",
    "column_names = job_data_dummies.loc[:, job_data_dummies.columns != 'job_categories'].columns.values"
   ]
  },
  {
   "cell_type": "code",
   "execution_count": 47,
   "metadata": {},
   "outputs": [],
   "source": [
    "formula = 'job_categories ~ 0 + {}'.format(' + '.join(['Q(\"{}\")'.format(x) for x in column_names]))"
   ]
  },
  {
   "cell_type": "code",
   "execution_count": 48,
   "metadata": {},
   "outputs": [],
   "source": [
    "from patsy import dmatrices\n",
    "Y, X = dmatrices(formula, job_data_dummies, return_type='dataframe')\n",
    "y = Y['job_categories'].values"
   ]
  },
  {
   "cell_type": "markdown",
   "metadata": {},
   "source": [
    "**Split data into train and test** "
   ]
  },
  {
   "cell_type": "code",
   "execution_count": 49,
   "metadata": {},
   "outputs": [],
   "source": [
    "from sklearn.model_selection import train_test_split\n",
    "X_train, X_test, y_train, y_test = train_test_split(X, y, test_size=0.3, random_state=99)"
   ]
  },
  {
   "cell_type": "markdown",
   "metadata": {},
   "source": [
    "**Baseline Accuracy**"
   ]
  },
  {
   "cell_type": "code",
   "execution_count": 50,
   "metadata": {},
   "outputs": [
    {
     "data": {
      "text/plain": [
       "0.7628113467064319"
      ]
     },
     "execution_count": 50,
     "metadata": {},
     "output_type": "execute_result"
    }
   ],
   "source": [
    "(len(y_test) - y_test.sum()) / len(y_test)"
   ]
  },
  {
   "cell_type": "markdown",
   "metadata": {},
   "source": [
    "**Multinomial Naive Bayes**"
   ]
  },
  {
   "cell_type": "code",
   "execution_count": 54,
   "metadata": {},
   "outputs": [],
   "source": [
    "from sklearn import naive_bayes\n",
    "model = naive_bayes.MultinomialNB()\n",
    "# Fit the model\n",
    "result = model.fit(X_train, y_train)\n",
    "# Predict the model on test data\n",
    "from sklearn import metrics\n",
    "prediction = model.predict(X_test)\n",
    "print (metrics.accuracy_score(y_test, prediction))"
   ]
  },
  {
   "cell_type": "markdown",
   "metadata": {},
   "source": [
    "**Bernoulli Naive Bayes**"
   ]
  },
  {
   "cell_type": "code",
   "execution_count": 52,
   "metadata": {},
   "outputs": [],
   "source": [
    "model = naive_bayes.BernoulliNB()\n",
    "# Fit the model\n",
    "result = model.fit(X_train, y_train)\n",
    "# Predict the model on test data\n",
    "from sklearn import metrics\n",
    "prediction = model.predict(X_test)\n",
    "print (metrics.accuracy_score(y_test, prediction))"
   ]
  },
  {
   "cell_type": "markdown",
   "metadata": {},
   "source": [
    "Now build a classification model with text (full job description) as the only predictor. There are two versions of Naïve Bayes – binomial and multinomial; for the moment, let’s not bother about the theoretical underpinnings! You can use either one for this assignment. For all models, show the confusion matrix."
   ]
  },
  {
   "cell_type": "code",
   "execution_count": 53,
   "metadata": {},
   "outputs": [],
   "source": [
    "# Extracting top 1000 most common words (features)\n",
    "word_features =[]\n",
    "for (word,freq) in most_common_words:\n",
    "    word_features.append(word)\n",
    "word_top_features = word_features[:3000]"
   ]
  },
  {
   "cell_type": "code",
   "execution_count": null,
   "metadata": {},
   "outputs": [],
   "source": []
  },
  {
   "cell_type": "code",
   "execution_count": null,
   "metadata": {},
   "outputs": [],
   "source": []
  },
  {
   "cell_type": "code",
   "execution_count": null,
   "metadata": {},
   "outputs": [],
   "source": []
  },
  {
   "cell_type": "code",
   "execution_count": null,
   "metadata": {},
   "outputs": [],
   "source": []
  },
  {
   "cell_type": "markdown",
   "metadata": {},
   "source": [
    "#### B2. Create a classification model with all words and the bag-of-words approach. How accurate is the model (show the confusion matrix)? \n",
    "\n",
    "Also show the top 10 words (excluding stopwords) that are most indicative of (i) high salary, and (ii) low salary. "
   ]
  },
  {
   "cell_type": "code",
   "execution_count": null,
   "metadata": {},
   "outputs": [],
   "source": []
  },
  {
   "cell_type": "markdown",
   "metadata": {},
   "source": [
    "#### B3. Train a “hybrid” model to predict high/low salary using both numeric and text data. Show the accuracy of the model. \n",
    "\n",
    "Which model – numeric only, text only and hybrid – provided the highest accuracy in predicting high/low salary? Did the result surprise you? Why or why not?\n"
   ]
  },
  {
   "cell_type": "code",
   "execution_count": null,
   "metadata": {},
   "outputs": [],
   "source": []
  }
 ],
 "metadata": {
  "kernelspec": {
   "display_name": "Python 2",
   "language": "python",
   "name": "python2"
  },
  "language_info": {
   "codemirror_mode": {
    "name": "ipython",
    "version": 2
   },
   "file_extension": ".py",
   "mimetype": "text/x-python",
   "name": "python",
   "nbconvert_exporter": "python",
   "pygments_lexer": "ipython2",
   "version": "2.7.15"
  }
 },
 "nbformat": 4,
 "nbformat_minor": 2
}

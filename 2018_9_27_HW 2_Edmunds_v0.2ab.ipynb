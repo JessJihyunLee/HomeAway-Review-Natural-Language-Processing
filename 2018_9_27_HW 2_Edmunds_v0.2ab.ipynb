{
 "cells": [
  {
   "cell_type": "code",
   "execution_count": 6,
   "metadata": {},
   "outputs": [
    {
     "name": "stdout",
     "output_type": "stream",
     "text": [
      "Populating the interactive namespace from numpy and matplotlib\n"
     ]
    },
    {
     "name": "stderr",
     "output_type": "stream",
     "text": [
      "C:\\Users\\bandi\\Anaconda3\\lib\\site-packages\\IPython\\core\\magics\\pylab.py:160: UserWarning: pylab import has clobbered these variables: ['copy']\n",
      "`%matplotlib` prevents importing * from pylab and numpy\n",
      "  \"\\n`%matplotlib` prevents importing * from pylab and numpy\"\n"
     ]
    }
   ],
   "source": [
    "from time import sleep\n",
    "from selenium import webdriver\n",
    "from string import punctuation\n",
    "import re\n",
    "import nltk\n",
    "from nltk.tokenize import sent_tokenize, word_tokenize\n",
    "from nltk.corpus import stopwords\n",
    "import copy\n",
    "import matplotlib.pyplot as plt\n",
    "%pylab inline\n",
    "import numpy as np\n",
    "import pandas as pd"
   ]
  },
  {
   "cell_type": "markdown",
   "metadata": {},
   "source": [
    "### 1& 2.) Fetching 5000 posts from Edmunds.com luxury forum"
   ]
  },
  {
   "cell_type": "code",
   "execution_count": 155,
   "metadata": {},
   "outputs": [],
   "source": [
    "driver = webdriver.Chrome('C:/Users/bandi/Desktop/Text Analytics/TA Session/chromedriver_win32/chromedriver')\n",
    "driver.get('https://forums.edmunds.com/discussion/2864/general/x/entry-level-luxury-performance-sedans/p702')"
   ]
  },
  {
   "cell_type": "code",
   "execution_count": 156,
   "metadata": {},
   "outputs": [],
   "source": [
    "#Creating empty data frame to store user_id, dates and comments from ~5K users.\n",
    "comments = pd.DataFrame(columns = ['Date','user_id','comments'])\n",
    "\n",
    "j = 702\n",
    "while (j>=1):\n",
    "    # Running while loop only till we get 5K comments \n",
    "    if (len(comments)<5000):\n",
    "        url = 'https://forums.edmunds.com/discussion/2864/general/x/entry-level-luxury-performance-sedans/p' + str(j)\n",
    "        driver.get(url)\n",
    "        ids = driver.find_elements_by_xpath(\"//*[contains(@id,'Comment_')]\")\n",
    "        comment_ids = []\n",
    "        for i in ids:\n",
    "            comment_ids.append(i.get_attribute('id'))\n",
    "\n",
    "        for x in comment_ids:\n",
    "            #Extract dates from for each user on a page\n",
    "            user_date = driver.find_elements_by_xpath('//*[@id=\"' + x +'\"]/div/div[2]/div[2]/span[1]/a/time')[0]\n",
    "            date = user_date.get_attribute('title')\n",
    "\n",
    "            #Extract user ids from each user on a page\n",
    "            user_title = driver.find_elements_by_xpath('//*[@id=\"' + x +'\"]/div/div[2]/div[1]/span[1]/a[1]')[0]\n",
    "            userid = user_title.get_attribute('title') \n",
    "\n",
    "            #Extract Message for each user on a page\n",
    "            user_message = driver.find_elements_by_xpath('//*[@id=\"' + x +'\"]/div/div[3]/div/div[1]')[0]\n",
    "            comment = user_message.text\n",
    "            \n",
    "            #Extracting Block Quote if Present\n",
    "            block_quote = driver.find_element_by_xpath('//*[@id=\"' + x + '\"]/div/div[3]/div/div[1]')\n",
    "            block_quote_class = block_quote.find_elements_by_class_name('UserQuote')\n",
    "            block_text = ''\n",
    "            if len(block_quote_class)>0:\n",
    "                block_text = block_quote_class[0].text\n",
    "            \n",
    "            #Replacing block quotes\n",
    "            comment = comment.replace(block_text,\"\")\n",
    "            \n",
    "           #Adding date, userid and comment for each user in a dataframe    \n",
    "            comments.loc[len(comments)] = [date,userid,comment]\n",
    "        j=j-1\n",
    "    else:\n",
    "        break\n",
    "        "
   ]
  },
  {
   "cell_type": "code",
   "execution_count": 157,
   "metadata": {},
   "outputs": [],
   "source": [
    "import copy\n",
    "comments_copy = copy.deepcopy(comments)\n",
    "\n",
    "def remove_space(s):\n",
    "    return s.replace(\"\\n\",\" \")\n",
    "comments_copy['comments'] = comments_copy['comments'].apply(remove_space)\n",
    "\n",
    "comments_copy.to_csv('comments.csv', header=True, sep=',') "
   ]
  },
  {
   "cell_type": "markdown",
   "metadata": {},
   "source": [
    "### Cleansing the posts we fetched from Edmunds.com"
   ]
  },
  {
   "cell_type": "code",
   "execution_count": 158,
   "metadata": {},
   "outputs": [],
   "source": [
    "comments_copy = pd.read_csv('comments.csv')\n",
    "comments_copy = comments_copy.dropna()\n",
    "comments_copy.reset_index(inplace  = True)"
   ]
  },
  {
   "cell_type": "code",
   "execution_count": 159,
   "metadata": {},
   "outputs": [],
   "source": [
    "def removepunc(item):\n",
    "    for p in punctuation:\n",
    "        item = item.lstrip().replace(p,'')\n",
    "    return item\n",
    "\n",
    "def lowerize(x):\n",
    "    return x.lower()\n",
    "\n",
    "comments_copy['comments_clean'] = comments_copy['comments'].apply(removepunc).apply(lowerize)"
   ]
  },
  {
   "cell_type": "code",
   "execution_count": 160,
   "metadata": {},
   "outputs": [],
   "source": [
    "models = pd.read_csv(\"models.csv\", header = None, names = ['brand','model'], encoding='windows-1252')"
   ]
  },
  {
   "cell_type": "code",
   "execution_count": 161,
   "metadata": {},
   "outputs": [],
   "source": [
    "models['brand'] = models['brand'].apply(removepunc)\n",
    "\n",
    "def model_to_brand(s):\n",
    "    for i in models.index.values:\n",
    "        s = s.replace(models[\"model\"][i].lower(),models[\"brand\"][i].lower())\n",
    "    return s\n",
    "comments_copy['comments_model_replace'] = comments_copy['comments_clean'].apply(model_to_brand)"
   ]
  },
  {
   "cell_type": "code",
   "execution_count": 162,
   "metadata": {},
   "outputs": [],
   "source": [
    "comments_copy['comments_appear'] = comments_copy['comments_model_replace'].apply(word_tokenize).apply(set).apply(list)\n",
    "\n",
    "# Remove stop words\n",
    "stop_words = set(stopwords.words('english'))\n",
    "def remove_stopwords(s):\n",
    "    return [w for w in s if not w in stop_words] \n",
    "    \n",
    "comments_copy['final_comments'] =  comments_copy['comments_appear'].apply(remove_stopwords)\n",
    "#filtered_sentence = [w for w in temp['comments_appear'] if not w in stop_words]"
   ]
  },
  {
   "cell_type": "code",
   "execution_count": 163,
   "metadata": {},
   "outputs": [],
   "source": [
    "count = []\n",
    "for i in range(len(comments_copy)):\n",
    "    count+=comments_copy['final_comments'][i]"
   ]
  },
  {
   "cell_type": "code",
   "execution_count": 164,
   "metadata": {},
   "outputs": [],
   "source": [
    "from nltk import FreqDist\n",
    "word_freq = nltk.FreqDist(count)"
   ]
  },
  {
   "cell_type": "code",
   "execution_count": 165,
   "metadata": {},
   "outputs": [],
   "source": [
    "models_unique = models['brand'].drop_duplicates().tolist()"
   ]
  },
  {
   "cell_type": "code",
   "execution_count": 166,
   "metadata": {},
   "outputs": [],
   "source": [
    "top_words = word_freq.most_common(500)\n",
    "top_brands = []\n",
    "for (key, items) in top_words:\n",
    "    if key in models_unique:\n",
    "        model_counts = (key,items)\n",
    "        top_brands.append(model_counts)        "
   ]
  },
  {
   "cell_type": "markdown",
   "metadata": {},
   "source": [
    "### 3. Top 10 brands "
   ]
  },
  {
   "cell_type": "code",
   "execution_count": 211,
   "metadata": {},
   "outputs": [
    {
     "name": "stdout",
     "output_type": "stream",
     "text": [
      "Below are the top 10 brands along with their frequencies\n",
      " [('bmw', 1353), ('audi', 1088), ('acura', 535), ('mercedes', 400), ('cadillac', 339), ('honda', 325), ('infiniti', 253), ('ford', 244), ('volkswagen', 229), ('lexus', 198)]\n"
     ]
    }
   ],
   "source": [
    "top_15_brands_counts = top_brands[:15]\n",
    "print ('Below are the top 10 brands along with their frequencies\\n' , top_15_brands_counts[:10])"
   ]
  },
  {
   "cell_type": "markdown",
   "metadata": {},
   "source": [
    "## Task A: Calculate lift ratios for associations between brands. Show the brands on a MDS map."
   ]
  },
  {
   "cell_type": "code",
   "execution_count": 212,
   "metadata": {},
   "outputs": [],
   "source": [
    "# Fetching the top 10 brands.\n",
    "top_15_brands =[]\n",
    "for brand, count in top_15_brands_counts:\n",
    "    top_15_brands.append(brand)    "
   ]
  },
  {
   "cell_type": "code",
   "execution_count": 213,
   "metadata": {},
   "outputs": [],
   "source": [
    "new_df = pd.DataFrame(columns = top_15_brands)\n",
    "\n",
    "def brand_mentioned(item):\n",
    "    if brand in item:\n",
    "        return 1\n",
    "    else:\n",
    "        return 0\n",
    "      \n",
    "for brand in top_15_brands:\n",
    "    new_df[brand] = comments_copy['final_comments'].apply(brand_mentioned)    "
   ]
  },
  {
   "cell_type": "code",
   "execution_count": 214,
   "metadata": {},
   "outputs": [],
   "source": [
    "df2=pd.DataFrame(columns = top_15_brands)\n",
    "\n",
    "for i in range(len(top_15_brands)):\n",
    "    new_list = []\n",
    "    for j in range(len(top_15_brands)):\n",
    "        if (i!=j):\n",
    "            lift = (((new_df[top_15_brands[i]] + new_df[top_15_brands[j]]) > 1).sum())/(new_df[top_15_brands[j]].sum()*new_df[top_15_brands[i]].sum())\n",
    "            lift = lift*len(new_df)\n",
    "            df2.loc[top_15_brands[i],top_15_brands[j]] = lift"
   ]
  },
  {
   "cell_type": "code",
   "execution_count": 215,
   "metadata": {},
   "outputs": [
    {
     "name": "stdout",
     "output_type": "stream",
     "text": [
      "Below are the lift ratios between top brands\n",
      "\n"
     ]
    },
    {
     "data": {
      "text/html": [
       "<div>\n",
       "<style scoped>\n",
       "    .dataframe tbody tr th:only-of-type {\n",
       "        vertical-align: middle;\n",
       "    }\n",
       "\n",
       "    .dataframe tbody tr th {\n",
       "        vertical-align: top;\n",
       "    }\n",
       "\n",
       "    .dataframe thead th {\n",
       "        text-align: right;\n",
       "    }\n",
       "</style>\n",
       "<table border=\"1\" class=\"dataframe\">\n",
       "  <thead>\n",
       "    <tr style=\"text-align: right;\">\n",
       "      <th></th>\n",
       "      <th>bmw</th>\n",
       "      <th>audi</th>\n",
       "      <th>acura</th>\n",
       "      <th>mercedes</th>\n",
       "      <th>cadillac</th>\n",
       "      <th>honda</th>\n",
       "      <th>infiniti</th>\n",
       "      <th>ford</th>\n",
       "      <th>volkswagen</th>\n",
       "      <th>lexus</th>\n",
       "      <th>hyundai</th>\n",
       "      <th>kia</th>\n",
       "      <th>toyota</th>\n",
       "      <th>volvo</th>\n",
       "      <th>subaru</th>\n",
       "    </tr>\n",
       "  </thead>\n",
       "  <tbody>\n",
       "    <tr>\n",
       "      <th>bmw</th>\n",
       "      <td>NaN</td>\n",
       "      <td>1.50198</td>\n",
       "      <td>1.37901</td>\n",
       "      <td>2.27786</td>\n",
       "      <td>1.62135</td>\n",
       "      <td>1.03288</td>\n",
       "      <td>1.85171</td>\n",
       "      <td>1.69324</td>\n",
       "      <td>1.17592</td>\n",
       "      <td>2.31018</td>\n",
       "      <td>1.39087</td>\n",
       "      <td>1.6366</td>\n",
       "      <td>1.23945</td>\n",
       "      <td>2.05661</td>\n",
       "      <td>1.09668</td>\n",
       "    </tr>\n",
       "    <tr>\n",
       "      <th>audi</th>\n",
       "      <td>1.50198</td>\n",
       "      <td>NaN</td>\n",
       "      <td>2.00641</td>\n",
       "      <td>2.51156</td>\n",
       "      <td>2.17864</td>\n",
       "      <td>1.65143</td>\n",
       "      <td>2.59283</td>\n",
       "      <td>1.14683</td>\n",
       "      <td>2.26361</td>\n",
       "      <td>2.68752</td>\n",
       "      <td>1.62937</td>\n",
       "      <td>1.19529</td>\n",
       "      <td>1.32115</td>\n",
       "      <td>2.27336</td>\n",
       "      <td>1.90105</td>\n",
       "    </tr>\n",
       "    <tr>\n",
       "      <th>acura</th>\n",
       "      <td>1.37901</td>\n",
       "      <td>2.00641</td>\n",
       "      <td>NaN</td>\n",
       "      <td>2.58879</td>\n",
       "      <td>2.14649</td>\n",
       "      <td>3.64548</td>\n",
       "      <td>4.24044</td>\n",
       "      <td>0.87937</td>\n",
       "      <td>1.38509</td>\n",
       "      <td>3.62793</td>\n",
       "      <td>1.17249</td>\n",
       "      <td>0.985455</td>\n",
       "      <td>1.71653</td>\n",
       "      <td>2.80695</td>\n",
       "      <td>1.34472</td>\n",
       "    </tr>\n",
       "    <tr>\n",
       "      <th>mercedes</th>\n",
       "      <td>2.27786</td>\n",
       "      <td>2.51156</td>\n",
       "      <td>2.58879</td>\n",
       "      <td>NaN</td>\n",
       "      <td>3.16538</td>\n",
       "      <td>1.91962</td>\n",
       "      <td>3.45227</td>\n",
       "      <td>1.73867</td>\n",
       "      <td>1.41666</td>\n",
       "      <td>5.3565</td>\n",
       "      <td>2.11367</td>\n",
       "      <td>1.66952</td>\n",
       "      <td>1.69694</td>\n",
       "      <td>4.19597</td>\n",
       "      <td>1.1241</td>\n",
       "    </tr>\n",
       "    <tr>\n",
       "      <th>cadillac</th>\n",
       "      <td>1.62135</td>\n",
       "      <td>2.17864</td>\n",
       "      <td>2.14649</td>\n",
       "      <td>3.16538</td>\n",
       "      <td>NaN</td>\n",
       "      <td>1.40432</td>\n",
       "      <td>3.49155</td>\n",
       "      <td>1.56881</td>\n",
       "      <td>1.02866</td>\n",
       "      <td>4.75886</td>\n",
       "      <td>2.09175</td>\n",
       "      <td>1.34785</td>\n",
       "      <td>1.76673</td>\n",
       "      <td>3.64811</td>\n",
       "      <td>1.59164</td>\n",
       "    </tr>\n",
       "    <tr>\n",
       "      <th>honda</th>\n",
       "      <td>1.03288</td>\n",
       "      <td>1.65143</td>\n",
       "      <td>3.64548</td>\n",
       "      <td>1.91962</td>\n",
       "      <td>1.40432</td>\n",
       "      <td>NaN</td>\n",
       "      <td>1.82098</td>\n",
       "      <td>1.63639</td>\n",
       "      <td>2.41419</td>\n",
       "      <td>2.55949</td>\n",
       "      <td>2.18186</td>\n",
       "      <td>2.59554</td>\n",
       "      <td>5.40564</td>\n",
       "      <td>0.815412</td>\n",
       "      <td>2.35196</td>\n",
       "    </tr>\n",
       "    <tr>\n",
       "      <th>infiniti</th>\n",
       "      <td>1.85171</td>\n",
       "      <td>2.59283</td>\n",
       "      <td>4.24044</td>\n",
       "      <td>3.45227</td>\n",
       "      <td>3.49155</td>\n",
       "      <td>1.82098</td>\n",
       "      <td>NaN</td>\n",
       "      <td>1.53614</td>\n",
       "      <td>1.80905</td>\n",
       "      <td>7.47245</td>\n",
       "      <td>2.04819</td>\n",
       "      <td>1.94494</td>\n",
       "      <td>2.36727</td>\n",
       "      <td>4.36444</td>\n",
       "      <td>2.84357</td>\n",
       "    </tr>\n",
       "    <tr>\n",
       "      <th>ford</th>\n",
       "      <td>1.69324</td>\n",
       "      <td>1.14683</td>\n",
       "      <td>0.87937</td>\n",
       "      <td>1.73867</td>\n",
       "      <td>1.56881</td>\n",
       "      <td>1.63639</td>\n",
       "      <td>1.53614</td>\n",
       "      <td>NaN</td>\n",
       "      <td>2.14375</td>\n",
       "      <td>1.54962</td>\n",
       "      <td>2.34729</td>\n",
       "      <td>3.16907</td>\n",
       "      <td>2.12731</td>\n",
       "      <td>1.81017</td>\n",
       "      <td>3.31701</td>\n",
       "    </tr>\n",
       "    <tr>\n",
       "      <th>volkswagen</th>\n",
       "      <td>1.17592</td>\n",
       "      <td>2.26361</td>\n",
       "      <td>1.38509</td>\n",
       "      <td>1.41666</td>\n",
       "      <td>1.02866</td>\n",
       "      <td>2.41419</td>\n",
       "      <td>1.80905</td>\n",
       "      <td>2.14375</td>\n",
       "      <td>NaN</td>\n",
       "      <td>1.54104</td>\n",
       "      <td>2.02465</td>\n",
       "      <td>1.68833</td>\n",
       "      <td>2.78973</td>\n",
       "      <td>1.92874</td>\n",
       "      <td>2.74889</td>\n",
       "    </tr>\n",
       "    <tr>\n",
       "      <th>lexus</th>\n",
       "      <td>2.31018</td>\n",
       "      <td>2.68752</td>\n",
       "      <td>3.62793</td>\n",
       "      <td>5.3565</td>\n",
       "      <td>4.75886</td>\n",
       "      <td>2.55949</td>\n",
       "      <td>7.47245</td>\n",
       "      <td>1.54962</td>\n",
       "      <td>1.54104</td>\n",
       "      <td>NaN</td>\n",
       "      <td>3.1681</td>\n",
       "      <td>3.19526</td>\n",
       "      <td>6.25135</td>\n",
       "      <td>5.57679</td>\n",
       "      <td>2.72509</td>\n",
       "    </tr>\n",
       "    <tr>\n",
       "      <th>hyundai</th>\n",
       "      <td>1.39087</td>\n",
       "      <td>1.62937</td>\n",
       "      <td>1.17249</td>\n",
       "      <td>2.11367</td>\n",
       "      <td>2.09175</td>\n",
       "      <td>2.18186</td>\n",
       "      <td>2.04819</td>\n",
       "      <td>2.34729</td>\n",
       "      <td>2.02465</td>\n",
       "      <td>3.1681</td>\n",
       "      <td>NaN</td>\n",
       "      <td>7.29847</td>\n",
       "      <td>4.80009</td>\n",
       "      <td>1.93085</td>\n",
       "      <td>1.47423</td>\n",
       "    </tr>\n",
       "    <tr>\n",
       "      <th>kia</th>\n",
       "      <td>1.6366</td>\n",
       "      <td>1.19529</td>\n",
       "      <td>0.985455</td>\n",
       "      <td>1.66952</td>\n",
       "      <td>1.34785</td>\n",
       "      <td>2.59554</td>\n",
       "      <td>1.94494</td>\n",
       "      <td>3.16907</td>\n",
       "      <td>1.68833</td>\n",
       "      <td>3.19526</td>\n",
       "      <td>7.29847</td>\n",
       "      <td>NaN</td>\n",
       "      <td>3.3742</td>\n",
       "      <td>2.48835</td>\n",
       "      <td>0.949943</td>\n",
       "    </tr>\n",
       "    <tr>\n",
       "      <th>toyota</th>\n",
       "      <td>1.23945</td>\n",
       "      <td>1.32115</td>\n",
       "      <td>1.71653</td>\n",
       "      <td>1.69694</td>\n",
       "      <td>1.76673</td>\n",
       "      <td>5.40564</td>\n",
       "      <td>2.36727</td>\n",
       "      <td>2.12731</td>\n",
       "      <td>2.78973</td>\n",
       "      <td>6.25135</td>\n",
       "      <td>4.80009</td>\n",
       "      <td>3.3742</td>\n",
       "      <td>NaN</td>\n",
       "      <td>1.06004</td>\n",
       "      <td>1.79856</td>\n",
       "    </tr>\n",
       "    <tr>\n",
       "      <th>volvo</th>\n",
       "      <td>2.05661</td>\n",
       "      <td>2.27336</td>\n",
       "      <td>2.80695</td>\n",
       "      <td>4.19597</td>\n",
       "      <td>3.64811</td>\n",
       "      <td>0.815412</td>\n",
       "      <td>4.36444</td>\n",
       "      <td>1.81017</td>\n",
       "      <td>1.92874</td>\n",
       "      <td>5.57679</td>\n",
       "      <td>1.93085</td>\n",
       "      <td>2.48835</td>\n",
       "      <td>1.06004</td>\n",
       "      <td>NaN</td>\n",
       "      <td>2.78538</td>\n",
       "    </tr>\n",
       "    <tr>\n",
       "      <th>subaru</th>\n",
       "      <td>1.09668</td>\n",
       "      <td>1.90105</td>\n",
       "      <td>1.34472</td>\n",
       "      <td>1.1241</td>\n",
       "      <td>1.59164</td>\n",
       "      <td>2.35196</td>\n",
       "      <td>2.84357</td>\n",
       "      <td>3.31701</td>\n",
       "      <td>2.74889</td>\n",
       "      <td>2.72509</td>\n",
       "      <td>1.47423</td>\n",
       "      <td>0.949943</td>\n",
       "      <td>1.79856</td>\n",
       "      <td>2.78538</td>\n",
       "      <td>NaN</td>\n",
       "    </tr>\n",
       "  </tbody>\n",
       "</table>\n",
       "</div>"
      ],
      "text/plain": [
       "                bmw     audi     acura mercedes cadillac     honda infiniti  \\\n",
       "bmw             NaN  1.50198   1.37901  2.27786  1.62135   1.03288  1.85171   \n",
       "audi        1.50198      NaN   2.00641  2.51156  2.17864   1.65143  2.59283   \n",
       "acura       1.37901  2.00641       NaN  2.58879  2.14649   3.64548  4.24044   \n",
       "mercedes    2.27786  2.51156   2.58879      NaN  3.16538   1.91962  3.45227   \n",
       "cadillac    1.62135  2.17864   2.14649  3.16538      NaN   1.40432  3.49155   \n",
       "honda       1.03288  1.65143   3.64548  1.91962  1.40432       NaN  1.82098   \n",
       "infiniti    1.85171  2.59283   4.24044  3.45227  3.49155   1.82098      NaN   \n",
       "ford        1.69324  1.14683   0.87937  1.73867  1.56881   1.63639  1.53614   \n",
       "volkswagen  1.17592  2.26361   1.38509  1.41666  1.02866   2.41419  1.80905   \n",
       "lexus       2.31018  2.68752   3.62793   5.3565  4.75886   2.55949  7.47245   \n",
       "hyundai     1.39087  1.62937   1.17249  2.11367  2.09175   2.18186  2.04819   \n",
       "kia          1.6366  1.19529  0.985455  1.66952  1.34785   2.59554  1.94494   \n",
       "toyota      1.23945  1.32115   1.71653  1.69694  1.76673   5.40564  2.36727   \n",
       "volvo       2.05661  2.27336   2.80695  4.19597  3.64811  0.815412  4.36444   \n",
       "subaru      1.09668  1.90105   1.34472   1.1241  1.59164   2.35196  2.84357   \n",
       "\n",
       "               ford volkswagen    lexus  hyundai       kia   toyota     volvo  \\\n",
       "bmw         1.69324    1.17592  2.31018  1.39087    1.6366  1.23945   2.05661   \n",
       "audi        1.14683    2.26361  2.68752  1.62937   1.19529  1.32115   2.27336   \n",
       "acura       0.87937    1.38509  3.62793  1.17249  0.985455  1.71653   2.80695   \n",
       "mercedes    1.73867    1.41666   5.3565  2.11367   1.66952  1.69694   4.19597   \n",
       "cadillac    1.56881    1.02866  4.75886  2.09175   1.34785  1.76673   3.64811   \n",
       "honda       1.63639    2.41419  2.55949  2.18186   2.59554  5.40564  0.815412   \n",
       "infiniti    1.53614    1.80905  7.47245  2.04819   1.94494  2.36727   4.36444   \n",
       "ford            NaN    2.14375  1.54962  2.34729   3.16907  2.12731   1.81017   \n",
       "volkswagen  2.14375        NaN  1.54104  2.02465   1.68833  2.78973   1.92874   \n",
       "lexus       1.54962    1.54104      NaN   3.1681   3.19526  6.25135   5.57679   \n",
       "hyundai     2.34729    2.02465   3.1681      NaN   7.29847  4.80009   1.93085   \n",
       "kia         3.16907    1.68833  3.19526  7.29847       NaN   3.3742   2.48835   \n",
       "toyota      2.12731    2.78973  6.25135  4.80009    3.3742      NaN   1.06004   \n",
       "volvo       1.81017    1.92874  5.57679  1.93085   2.48835  1.06004       NaN   \n",
       "subaru      3.31701    2.74889  2.72509  1.47423  0.949943  1.79856   2.78538   \n",
       "\n",
       "              subaru  \n",
       "bmw          1.09668  \n",
       "audi         1.90105  \n",
       "acura        1.34472  \n",
       "mercedes      1.1241  \n",
       "cadillac     1.59164  \n",
       "honda        2.35196  \n",
       "infiniti     2.84357  \n",
       "ford         3.31701  \n",
       "volkswagen   2.74889  \n",
       "lexus        2.72509  \n",
       "hyundai      1.47423  \n",
       "kia         0.949943  \n",
       "toyota       1.79856  \n",
       "volvo        2.78538  \n",
       "subaru           NaN  "
      ]
     },
     "execution_count": 215,
     "metadata": {},
     "output_type": "execute_result"
    }
   ],
   "source": [
    "print ('Below are the lift ratios between top brands\\n')\n",
    "df2"
   ]
  },
  {
   "cell_type": "markdown",
   "metadata": {},
   "source": [
    "### MDS plot"
   ]
  },
  {
   "cell_type": "code",
   "execution_count": 226,
   "metadata": {},
   "outputs": [],
   "source": [
    "dissimilarity_matrix = 1/df2\n",
    "np.fill_diagonal(dissimilarity_matrix.values, 0)"
   ]
  },
  {
   "cell_type": "code",
   "execution_count": 217,
   "metadata": {},
   "outputs": [
    {
     "data": {
      "image/png": "[encoded data removed]",
      "text/plain": [
       "<Figure size 432x288 with 1 Axes>"
      ]
     },
     "metadata": {},
     "output_type": "display_data"
    }
   ],
   "source": [
    "from sklearn import manifold\n",
    "seed = np.random.RandomState(seed=3)\n",
    "mds = manifold.MDS(n_components=2, max_iter=3000, eps=1e-9, \n",
    "      random_state=seed, dissimilarity=\"precomputed\", n_jobs=1)\n",
    "results = mds.fit(dissimilarity_matrix)\n",
    "coords = results.embedding_\n",
    "\n",
    "plt.subplots_adjust(bottom = 0.1)\n",
    "plt.scatter(\n",
    "    coords[:, 0], coords[:, 1], marker = 'o'\n",
    "    )\n",
    "for label, x, y in zip(top_15_brands, coords[:, 0], coords[:, 1]):\n",
    "    \n",
    "    plt.annotate(\n",
    "        label,\n",
    "        xy = (x, y), xytext = (-30, 30),\n",
    "        textcoords = 'offset points', ha = 'right', va = 'bottom',\n",
    "        bbox = dict(boxstyle = 'round,pad=0.5', fc = 'yellow', alpha = 0.5),\n",
    "        arrowprops = dict(arrowstyle = '->', connectionstyle = 'arc3,rad=0'))\n",
    "\n",
    "plt.show()"
   ]
  },
  {
   "cell_type": "markdown",
   "metadata": {},
   "source": [
    "### Task B: What insights can you offer brand managers from your analysis in Task A (choose two brands that you can offer the most interesting/useful insights for)? "
   ]
  },
  {
   "cell_type": "code",
   "execution_count": null,
   "metadata": {},
   "outputs": [],
   "source": []
  },
  {
   "cell_type": "markdown",
   "metadata": {},
   "source": [
    "### Task C:\n",
    "### i.) What are 5 most frequently mentioned attributes of cars in the discussions?"
   ]
  },
  {
   "cell_type": "code",
   "execution_count": 218,
   "metadata": {},
   "outputs": [],
   "source": [
    "attributes = pd.read_csv('attributes.csv')"
   ]
  },
  {
   "cell_type": "code",
   "execution_count": 219,
   "metadata": {},
   "outputs": [],
   "source": [
    "def word_to_attributes(s):\n",
    "    s = \" \".join(str(x) for x in s)\n",
    "    for i in attributes.index.values:\n",
    "        s = s.replace(attributes[\"Attribute\"][i].lower(),attributes[\"Mapping\"][i].lower())\n",
    "    return s\n",
    "comments_copy['comments_attributes_replace'] = comments_copy['final_comments'].apply(word_to_attributes)"
   ]
  },
  {
   "cell_type": "code",
   "execution_count": 220,
   "metadata": {},
   "outputs": [],
   "source": [
    "count = []\n",
    "for i in range(len(comments_copy)):\n",
    "    count+=comments_copy['comments_attributes_replace'][i]\n",
    "attr_freq = nltk.FreqDist(count)\n",
    "attributes_unique = attributes['Mapping'].drop_duplicates().tolist()\n",
    "\n",
    "top_words = word_freq.most_common(3000)\n",
    "top_attributes = []\n",
    "for (key, items) in top_words:\n",
    "    if key in attributes_unique:\n",
    "        attribute_counts = (key,items)\n",
    "        top_attributes.append(attribute_counts) "
   ]
  },
  {
   "cell_type": "code",
   "execution_count": 221,
   "metadata": {},
   "outputs": [
    {
     "name": "stdout",
     "output_type": "stream",
     "text": [
      "Below are the top 5 attributes along with their frequencies\n",
      " [('performance', 332), ('maintenance', 104), ('styling', 66), ('comfort', 53), ('safety', 47)]\n"
     ]
    }
   ],
   "source": [
    "top_5_attributes_counts = top_attributes[:5]\n",
    "print ('Below are the top 5 attributes along with their frequencies\\n' , top_5_attributes_counts)"
   ]
  },
  {
   "cell_type": "markdown",
   "metadata": {},
   "source": [
    "### ii.) Which attributes are most strongly associated with which of the top 5 brands?"
   ]
  },
  {
   "cell_type": "code",
   "execution_count": 222,
   "metadata": {},
   "outputs": [],
   "source": [
    "# Fetching top 5 attrbutes\n",
    "top_5_attributes =[]\n",
    "for attribute, count in top_5_attributes_counts:\n",
    "    top_5_attributes.append(attribute) "
   ]
  },
  {
   "cell_type": "code",
   "execution_count": 223,
   "metadata": {},
   "outputs": [],
   "source": [
    "attributes_df = pd.DataFrame(columns = top_5_attributes)\n",
    "\n",
    "def attribute_mentioned(item):\n",
    "    if attribute in item:\n",
    "        return 1\n",
    "    else:\n",
    "        return 0\n",
    "      \n",
    "for attribute in top_5_attributes:\n",
    "    attributes_df[attribute] = comments_copy['comments_attributes_replace'].apply(attribute_mentioned)  "
   ]
  },
  {
   "cell_type": "code",
   "execution_count": 224,
   "metadata": {},
   "outputs": [],
   "source": [
    "df3=pd.DataFrame(columns = top_5_attributes)\n",
    "top_5_brands = top_15_brands[:5]\n",
    "for i in range(len(top_5_brands)):\n",
    "    new_list = []\n",
    "    for j in range(len(top_5_attributes)):\n",
    "        lift_brand_attributes = (((new_df[top_5_brands[i]] + attributes_df[top_5_attributes[j]]) > 1).sum())/(new_df[top_5_brands[i]].sum()*attributes_df[top_5_attributes[j]].sum())\n",
    "        lift_brand_attributes = lift_brand_attributes*len(attributes_df)\n",
    "        df3.loc[top_5_brands[i],top_5_attributes[j]] = lift_brand_attributes"
   ]
  },
  {
   "cell_type": "code",
   "execution_count": 225,
   "metadata": {},
   "outputs": [
    {
     "name": "stdout",
     "output_type": "stream",
     "text": [
      "Below are the lift ratios between top 5 brands and top 5 attributes \n",
      "\n"
     ]
    },
    {
     "data": {
      "text/html": [
       "<div>\n",
       "<style scoped>\n",
       "    .dataframe tbody tr th:only-of-type {\n",
       "        vertical-align: middle;\n",
       "    }\n",
       "\n",
       "    .dataframe tbody tr th {\n",
       "        vertical-align: top;\n",
       "    }\n",
       "\n",
       "    .dataframe thead th {\n",
       "        text-align: right;\n",
       "    }\n",
       "</style>\n",
       "<table border=\"1\" class=\"dataframe\">\n",
       "  <thead>\n",
       "    <tr style=\"text-align: right;\">\n",
       "      <th></th>\n",
       "      <th>performance</th>\n",
       "      <th>maintenance</th>\n",
       "      <th>styling</th>\n",
       "      <th>comfort</th>\n",
       "      <th>safety</th>\n",
       "    </tr>\n",
       "  </thead>\n",
       "  <tbody>\n",
       "    <tr>\n",
       "      <th>bmw</th>\n",
       "      <td>1.39263</td>\n",
       "      <td>1.41275</td>\n",
       "      <td>1.52248</td>\n",
       "      <td>1.47226</td>\n",
       "      <td>1.26055</td>\n",
       "    </tr>\n",
       "    <tr>\n",
       "      <th>audi</th>\n",
       "      <td>1.54418</td>\n",
       "      <td>1.56977</td>\n",
       "      <td>1.98506</td>\n",
       "      <td>1.80543</td>\n",
       "      <td>1.64451</td>\n",
       "    </tr>\n",
       "    <tr>\n",
       "      <th>acura</th>\n",
       "      <td>1.51728</td>\n",
       "      <td>1.58791</td>\n",
       "      <td>2.28984</td>\n",
       "      <td>1.9444</td>\n",
       "      <td>1.68195</td>\n",
       "    </tr>\n",
       "    <tr>\n",
       "      <th>mercedes</th>\n",
       "      <td>1.28526</td>\n",
       "      <td>1.17253</td>\n",
       "      <td>1.81491</td>\n",
       "      <td>2.14414</td>\n",
       "      <td>1.04633</td>\n",
       "    </tr>\n",
       "    <tr>\n",
       "      <th>cadillac</th>\n",
       "      <td>1.16098</td>\n",
       "      <td>1.2791</td>\n",
       "      <td>1.25812</td>\n",
       "      <td>1.94235</td>\n",
       "      <td>1.26547</td>\n",
       "    </tr>\n",
       "  </tbody>\n",
       "</table>\n",
       "</div>"
      ],
      "text/plain": [
       "         performance maintenance  styling  comfort   safety\n",
       "bmw          1.39263     1.41275  1.52248  1.47226  1.26055\n",
       "audi         1.54418     1.56977  1.98506  1.80543  1.64451\n",
       "acura        1.51728     1.58791  2.28984   1.9444  1.68195\n",
       "mercedes     1.28526     1.17253  1.81491  2.14414  1.04633\n",
       "cadillac     1.16098      1.2791  1.25812  1.94235  1.26547"
      ]
     },
     "execution_count": 225,
     "metadata": {},
     "output_type": "execute_result"
    }
   ],
   "source": [
    "print ('Below are the lift ratios between top 5 brands and top 5 attributes \\n')\n",
    "df3"
   ]
  },
  {
   "cell_type": "markdown",
   "metadata": {},
   "source": [
    "### iii.) While BMW has claimed that they are the “ultimate driving machine”, is that how people feel on Edmunds? "
   ]
  },
  {
   "cell_type": "markdown",
   "metadata": {},
   "source": [
    "The association of bmw with performance is lower than that of audi or acura with bmw. This shows that probably people don't associate bmw with performace that much. However, what would be interesting to look into is whether the association between bmw and performance is positive (positive sentiment), while the same with acura is negative (negative sentiment). What is interesting is that people associate bmw more with comfort, styling and maintenance than performance. "
   ]
  },
  {
   "cell_type": "markdown",
   "metadata": {},
   "source": [
    "## Task D: What advice will you give to a (i) product manager, and (ii) marketing/advertising manager of these brands based on your analysis in Task C? For this assignment, you can assume the sentiment (e.g., that it is positive)"
   ]
  },
  {
   "cell_type": "code",
   "execution_count": null,
   "metadata": {},
   "outputs": [],
   "source": []
  }
 ],
 "metadata": {
  "kernelspec": {
   "display_name": "Python 3",
   "language": "python",
   "name": "python3"
  },
  "language_info": {
   "codemirror_mode": {
    "name": "ipython",
    "version": 3
   },
   "file_extension": ".py",
   "mimetype": "text/x-python",
   "name": "python",
   "nbconvert_exporter": "python",
   "pygments_lexer": "ipython3",
   "version": "3.6.5"
  }
 },
 "nbformat": 4,
 "nbformat_minor": 2
}

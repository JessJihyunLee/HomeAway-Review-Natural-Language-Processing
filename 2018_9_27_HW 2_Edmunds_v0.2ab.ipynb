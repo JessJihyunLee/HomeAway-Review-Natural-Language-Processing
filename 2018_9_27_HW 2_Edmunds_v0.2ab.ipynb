{
 "cells": [
  {
   "cell_type": "code",
   "execution_count": 2,
   "metadata": {},
   "outputs": [],
   "source": [
    "from time import sleep\n",
    "from selenium import webdriver\n",
    "from string import punctuation\n",
    "import re\n",
    "import nltk\n",
    "from nltk.tokenize import sent_tokenize, word_tokenize\n",
    "from nltk.corpus import stopwords\n",
    "import copy\n",
    "import matplotlib.pyplot as plt\n",
    "%pylab inline\n",
    "import numpy as np"
   ]
  },
  {
   "cell_type": "markdown",
   "metadata": {},
   "source": [
    "### 1& 2.) Fetching 5000 posts from Edmunds.com luxury forum"
   ]
  },
  {
   "cell_type": "code",
   "execution_count": 72,
   "metadata": {},
   "outputs": [],
   "source": [
    "driver = webdriver.Chrome('C:/Users/bandi/Desktop/Text Analytics/TA Session/chromedriver_win32/chromedriver')\n",
    "driver.get('https://forums.edmunds.com/discussion/2864/general/x/entry-level-luxury-performance-sedans/p702')"
   ]
  },
  {
   "cell_type": "code",
   "execution_count": 73,
   "metadata": {},
   "outputs": [],
   "source": [
    "#Creating empty data frame to store user_id, dates and comments from ~5K users.\n",
    "comments = pd.DataFrame(columns = ['Date','user_id','comments'])\n",
    "\n",
    "j = 702\n",
    "while (j>=1):\n",
    "    # Running while loop only till we get 5K comments \n",
    "    if (len(comments)<5000):\n",
    "        url = 'https://forums.edmunds.com/discussion/2864/general/x/entry-level-luxury-performance-sedans/p' + str(j)\n",
    "        driver.get(url)\n",
    "        ids = driver.find_elements_by_xpath(\"//*[contains(@id,'Comment_')]\")\n",
    "        comment_ids = []\n",
    "        for i in ids:\n",
    "            comment_ids.append(i.get_attribute('id'))\n",
    "\n",
    "        for x in comment_ids:\n",
    "            #Extract dates from for each user on a page\n",
    "            user_date = driver.find_elements_by_xpath('//*[@id=\"' + x +'\"]/div/div[2]/div[2]/span[1]/a/time')[0]\n",
    "            date = user_date.get_attribute('title')\n",
    "\n",
    "            #Extract user ids from each user on a page\n",
    "            user_title = driver.find_elements_by_xpath('//*[@id=\"' + x +'\"]/div/div[2]/div[1]/span[1]/a[1]')[0]\n",
    "            userid = user_title.get_attribute('title') \n",
    "\n",
    "            #Extract Message for each user on a page\n",
    "            user_message = driver.find_elements_by_xpath('//*[@id=\"' + x +'\"]/div/div[3]')[0]\n",
    "            comment = user_message.text\n",
    "            \n",
    "            #Extracting Block Quote if Present\n",
    "            block_quote = driver.find_element_by_xpath('//*[@id=\"' + x + '\"]/div/div[3]/div/div[1]')\n",
    "            block_quote_class = block_quote.find_elements_by_class_name('UserQuote')\n",
    "            block_text = ''\n",
    "            if len(block_quote_class)>0:\n",
    "                block_text = block_quote_class[0].text\n",
    "            \n",
    "            #Replacing block quotes\n",
    "            comment = comment.replace(block_text,\"\")\n",
    "            \n",
    "           #Adding date, userid and comment for each user in a dataframe    \n",
    "            comments.loc[len(comments)] = [date,userid,comment]\n",
    "        j=j-1\n",
    "    else:\n",
    "        break\n",
    "        "
   ]
  },
  {
   "cell_type": "code",
   "execution_count": 87,
   "metadata": {},
   "outputs": [],
   "source": [
    "import copy\n",
    "comments_copy = copy.deepcopy(comments)\n",
    "\n",
    "def remove_space(s):\n",
    "    return s.replace(\"\\n\",\" \")\n",
    "comments_copy['comments'] = comments_copy['comments'].apply(remove_space)\n",
    "\n",
    "comments_copy.to_csv('comments.csv', header=True, sep=',') "
   ]
  },
  {
   "cell_type": "markdown",
   "metadata": {},
   "source": [
    "### Cleansing the posts we fetched from Edmunds.com"
   ]
  },
  {
   "cell_type": "code",
   "execution_count": 96,
   "metadata": {},
   "outputs": [],
   "source": [
    "comments_copy = pd.read_csv('comments.csv')\n",
    "comments_copy = comments_copy.dropna()\n",
    "comments_copy.reset_index(inplace  = True)"
   ]
  },
  {
   "cell_type": "code",
   "execution_count": 97,
   "metadata": {},
   "outputs": [],
   "source": [
    "def removepunc(item):\n",
    "    for p in punctuation:\n",
    "        item = item.lstrip().replace(p,'')\n",
    "    return item\n",
    "\n",
    "def lowerize(x):\n",
    "    return x.lower()\n",
    "\n",
    "comments_copy['comments_clean'] = comments_copy['comments'].apply(removepunc).apply(lowerize)"
   ]
  },
  {
   "cell_type": "code",
   "execution_count": 94,
   "metadata": {},
   "outputs": [],
   "source": [
    "models = pd.read_csv(\"models.csv\", header = None, names = ['brand','model'], encoding='windows-1252')"
   ]
  },
  {
   "cell_type": "code",
   "execution_count": 98,
   "metadata": {},
   "outputs": [],
   "source": [
    "models['brand'] = models['brand'].apply(removepunc)\n",
    "\n",
    "def model_to_brand(s):\n",
    "    for i in models.index.values:\n",
    "        s = s.replace(models[\"model\"][i].lower(),models[\"brand\"][i].lower())\n",
    "    return s\n",
    "comments_copy['comments_model_replace'] = comments_copy['comments_clean'].apply(model_to_brand)"
   ]
  },
  {
   "cell_type": "code",
   "execution_count": 99,
   "metadata": {},
   "outputs": [],
   "source": [
    "temp = copy.deepcopy(comments_copy)\n",
    "#temp.reset_index(inplace  = True)"
   ]
  },
  {
   "cell_type": "code",
   "execution_count": 100,
   "metadata": {},
   "outputs": [],
   "source": [
    "temp['comments_appear'] = temp['comments_model_replace'].apply(word_tokenize).apply(set).apply(list)\n",
    "\n",
    "# Remove stop words\n",
    "stop_words = set(stopwords.words('english'))\n",
    "def remove_stopwords(s):\n",
    "    return [w for w in s if not w in stop_words] \n",
    "    \n",
    "temp['final_comments'] =  temp['comments_appear'].apply(remove_stopwords)\n",
    "#filtered_sentence = [w for w in temp['comments_appear'] if not w in stop_words]"
   ]
  },
  {
   "cell_type": "code",
   "execution_count": 120,
   "metadata": {},
   "outputs": [],
   "source": [
    "count = []\n",
    "for i in range(len(temp)):\n",
    "    count+=temp['final_comments'][i]"
   ]
  },
  {
   "cell_type": "code",
   "execution_count": 102,
   "metadata": {},
   "outputs": [],
   "source": [
    "from nltk import FreqDist\n",
    "word_freq = nltk.FreqDist(count)"
   ]
  },
  {
   "cell_type": "code",
   "execution_count": 103,
   "metadata": {},
   "outputs": [],
   "source": [
    "models_unique = models['brand'].drop_duplicates().tolist()"
   ]
  },
  {
   "cell_type": "code",
   "execution_count": 105,
   "metadata": {},
   "outputs": [],
   "source": [
    "top_words = word_freq.most_common(500)\n",
    "top_brands = []\n",
    "for (key, items) in top_words:\n",
    "    if key in models_unique:\n",
    "        model_counts = (key,items)\n",
    "        top_brands.append(model_counts)        "
   ]
  },
  {
   "cell_type": "markdown",
   "metadata": {},
   "source": [
    "### 3. Top 10 brands "
   ]
  },
  {
   "cell_type": "code",
   "execution_count": 111,
   "metadata": {},
   "outputs": [
    {
     "name": "stdout",
     "output_type": "stream",
     "text": [
      "Below are the top 10 brands along with their frequencies\n",
      " [('bmw', 1435), ('audi', 1246), ('acura', 1170), ('hyundai', 750), ('volkswagen', 653), ('honda', 632), ('mercedes', 450), ('infiniti', 437), ('ford', 429), ('kia', 400)]\n"
     ]
    }
   ],
   "source": [
    "top_10_brands_counts = top_brands[:10]\n",
    "print ('Below are the top 10 brands along with their frequencies\\n' , top_10_brands_counts)"
   ]
  },
  {
   "cell_type": "markdown",
   "metadata": {},
   "source": [
    "## Task A: Calculate lift ratios for associations between brands. Show the brands on a MDS map."
   ]
  },
  {
   "cell_type": "code",
   "execution_count": 112,
   "metadata": {},
   "outputs": [],
   "source": [
    "# Fetching the top 10 brands.\n",
    "top_10_brands =[]\n",
    "for brand, count in top_10_brands_counts:\n",
    "    top_10_brands.append(brand)    "
   ]
  },
  {
   "cell_type": "code",
   "execution_count": 122,
   "metadata": {},
   "outputs": [],
   "source": [
    "new_df = pd.DataFrame(columns = top_10_brands)\n",
    "\n",
    "def brand_mentioned(item):\n",
    "    if brand in item:\n",
    "        return 1\n",
    "    else:\n",
    "        return 0\n",
    "      \n",
    "for brand in top_10_brands:\n",
    "    new_df[brand] = temp['final_comments'].apply(brand_mentioned)\n",
    "    "
   ]
  },
  {
   "cell_type": "code",
   "execution_count": 155,
   "metadata": {},
   "outputs": [],
   "source": [
    "df2=pd.DataFrame(columns = top_10_brands)\n",
    "\n",
    "for i in range(len(top_10_brands)):\n",
    "    new_list = []\n",
    "    for j in range(len(top_10_brands)):\n",
    "        if (i!=j):\n",
    "            lift = ((new_df[top_10_brands[i]] + new_df[top_10_brands[j]] > 1).sum())/(new_df[top_10_brands[j]].sum()*new_df[top_10_brands[i]].sum())\n",
    "            lift = lift*len(new_df)\n",
    "            df2.loc[top_10_brands[i],top_10_brands[j]] = lift\n"
   ]
  },
  {
   "cell_type": "code",
   "execution_count": 175,
   "metadata": {},
   "outputs": [
    {
     "name": "stdout",
     "output_type": "stream",
     "text": [
      "Below are the lift ratios between top 10 brands\n",
      "\n"
     ]
    },
    {
     "data": {
      "text/html": [
       "<div>\n",
       "<style scoped>\n",
       "    .dataframe tbody tr th:only-of-type {\n",
       "        vertical-align: middle;\n",
       "    }\n",
       "\n",
       "    .dataframe tbody tr th {\n",
       "        vertical-align: top;\n",
       "    }\n",
       "\n",
       "    .dataframe thead th {\n",
       "        text-align: right;\n",
       "    }\n",
       "</style>\n",
       "<table border=\"1\" class=\"dataframe\">\n",
       "  <thead>\n",
       "    <tr style=\"text-align: right;\">\n",
       "      <th></th>\n",
       "      <th>bmw</th>\n",
       "      <th>audi</th>\n",
       "      <th>acura</th>\n",
       "      <th>hyundai</th>\n",
       "      <th>volkswagen</th>\n",
       "      <th>honda</th>\n",
       "      <th>mercedes</th>\n",
       "      <th>infiniti</th>\n",
       "      <th>ford</th>\n",
       "      <th>kia</th>\n",
       "    </tr>\n",
       "  </thead>\n",
       "  <tbody>\n",
       "    <tr>\n",
       "      <th>bmw</th>\n",
       "      <td>NaN</td>\n",
       "      <td>1.32243</td>\n",
       "      <td>0.946831</td>\n",
       "      <td>0.840715</td>\n",
       "      <td>0.661515</td>\n",
       "      <td>0.90949</td>\n",
       "      <td>2.31467</td>\n",
       "      <td>1.42693</td>\n",
       "      <td>1.22617</td>\n",
       "      <td>0.722852</td>\n",
       "    </tr>\n",
       "    <tr>\n",
       "      <th>audi</th>\n",
       "      <td>1.32243</td>\n",
       "      <td>NaN</td>\n",
       "      <td>1.2139</td>\n",
       "      <td>0.700769</td>\n",
       "      <td>2.42074</td>\n",
       "      <td>1.28868</td>\n",
       "      <td>2.10409</td>\n",
       "      <td>1.64338</td>\n",
       "      <td>0.729462</td>\n",
       "      <td>3.03912</td>\n",
       "    </tr>\n",
       "    <tr>\n",
       "      <th>acura</th>\n",
       "      <td>0.946831</td>\n",
       "      <td>1.2139</td>\n",
       "      <td>NaN</td>\n",
       "      <td>1.94833</td>\n",
       "      <td>0.844061</td>\n",
       "      <td>1.94703</td>\n",
       "      <td>1.49068</td>\n",
       "      <td>1.4177</td>\n",
       "      <td>0.537816</td>\n",
       "      <td>0.45931</td>\n",
       "    </tr>\n",
       "    <tr>\n",
       "      <th>hyundai</th>\n",
       "      <td>0.840715</td>\n",
       "      <td>0.700769</td>\n",
       "      <td>1.94833</td>\n",
       "      <td>NaN</td>\n",
       "      <td>0.612435</td>\n",
       "      <td>0.55896</td>\n",
       "      <td>1.58487</td>\n",
       "      <td>0.442322</td>\n",
       "      <td>0.605939</td>\n",
       "      <td>0.89982</td>\n",
       "    </tr>\n",
       "    <tr>\n",
       "      <th>volkswagen</th>\n",
       "      <td>0.661515</td>\n",
       "      <td>2.42074</td>\n",
       "      <td>0.844061</td>\n",
       "      <td>0.612435</td>\n",
       "      <td>NaN</td>\n",
       "      <td>1.09017</td>\n",
       "      <td>1.02072</td>\n",
       "      <td>0.648172</td>\n",
       "      <td>0.785173</td>\n",
       "      <td>5.47364</td>\n",
       "    </tr>\n",
       "    <tr>\n",
       "      <th>honda</th>\n",
       "      <td>0.90949</td>\n",
       "      <td>1.28868</td>\n",
       "      <td>1.94703</td>\n",
       "      <td>0.55896</td>\n",
       "      <td>1.09017</td>\n",
       "      <td>NaN</td>\n",
       "      <td>1.35346</td>\n",
       "      <td>4.18116</td>\n",
       "      <td>0.8297</td>\n",
       "      <td>1.02828</td>\n",
       "    </tr>\n",
       "    <tr>\n",
       "      <th>mercedes</th>\n",
       "      <td>2.31467</td>\n",
       "      <td>2.10409</td>\n",
       "      <td>1.49068</td>\n",
       "      <td>1.58487</td>\n",
       "      <td>1.02072</td>\n",
       "      <td>1.35346</td>\n",
       "      <td>NaN</td>\n",
       "      <td>2.03366</td>\n",
       "      <td>1.21706</td>\n",
       "      <td>0.860939</td>\n",
       "    </tr>\n",
       "    <tr>\n",
       "      <th>infiniti</th>\n",
       "      <td>1.42693</td>\n",
       "      <td>1.64338</td>\n",
       "      <td>1.4177</td>\n",
       "      <td>0.442322</td>\n",
       "      <td>0.648172</td>\n",
       "      <td>4.18116</td>\n",
       "      <td>2.03366</td>\n",
       "      <td>NaN</td>\n",
       "      <td>0.71996</td>\n",
       "      <td>0.600566</td>\n",
       "    </tr>\n",
       "    <tr>\n",
       "      <th>ford</th>\n",
       "      <td>1.22617</td>\n",
       "      <td>0.729462</td>\n",
       "      <td>0.537816</td>\n",
       "      <td>0.605939</td>\n",
       "      <td>0.785173</td>\n",
       "      <td>0.8297</td>\n",
       "      <td>1.21706</td>\n",
       "      <td>0.71996</td>\n",
       "      <td>NaN</td>\n",
       "      <td>1.25266</td>\n",
       "    </tr>\n",
       "    <tr>\n",
       "      <th>kia</th>\n",
       "      <td>0.722852</td>\n",
       "      <td>3.03912</td>\n",
       "      <td>0.45931</td>\n",
       "      <td>0.89982</td>\n",
       "      <td>5.47364</td>\n",
       "      <td>1.02828</td>\n",
       "      <td>0.860939</td>\n",
       "      <td>0.600566</td>\n",
       "      <td>1.25266</td>\n",
       "      <td>NaN</td>\n",
       "    </tr>\n",
       "  </tbody>\n",
       "</table>\n",
       "</div>"
      ],
      "text/plain": [
       "                 bmw      audi     acura   hyundai volkswagen    honda  \\\n",
       "bmw              NaN   1.32243  0.946831  0.840715   0.661515  0.90949   \n",
       "audi         1.32243       NaN    1.2139  0.700769    2.42074  1.28868   \n",
       "acura       0.946831    1.2139       NaN   1.94833   0.844061  1.94703   \n",
       "hyundai     0.840715  0.700769   1.94833       NaN   0.612435  0.55896   \n",
       "volkswagen  0.661515   2.42074  0.844061  0.612435        NaN  1.09017   \n",
       "honda        0.90949   1.28868   1.94703   0.55896    1.09017      NaN   \n",
       "mercedes     2.31467   2.10409   1.49068   1.58487    1.02072  1.35346   \n",
       "infiniti     1.42693   1.64338    1.4177  0.442322   0.648172  4.18116   \n",
       "ford         1.22617  0.729462  0.537816  0.605939   0.785173   0.8297   \n",
       "kia         0.722852   3.03912   0.45931   0.89982    5.47364  1.02828   \n",
       "\n",
       "            mercedes  infiniti      ford       kia  \n",
       "bmw          2.31467   1.42693   1.22617  0.722852  \n",
       "audi         2.10409   1.64338  0.729462   3.03912  \n",
       "acura        1.49068    1.4177  0.537816   0.45931  \n",
       "hyundai      1.58487  0.442322  0.605939   0.89982  \n",
       "volkswagen   1.02072  0.648172  0.785173   5.47364  \n",
       "honda        1.35346   4.18116    0.8297   1.02828  \n",
       "mercedes         NaN   2.03366   1.21706  0.860939  \n",
       "infiniti     2.03366       NaN   0.71996  0.600566  \n",
       "ford         1.21706   0.71996       NaN   1.25266  \n",
       "kia         0.860939  0.600566   1.25266       NaN  "
      ]
     },
     "execution_count": 175,
     "metadata": {},
     "output_type": "execute_result"
    }
   ],
   "source": [
    "print ('Below are the lift ratios between top 10 brands\\n')\n",
    "df2"
   ]
  },
  {
   "cell_type": "markdown",
   "metadata": {},
   "source": [
    "### MDS plot"
   ]
  },
  {
   "cell_type": "code",
   "execution_count": 182,
   "metadata": {},
   "outputs": [],
   "source": [
    "dissimilarity_matrix = 1/df2\n",
    "np.fill_diagonal(dissimilarity_matrix.values, 1)"
   ]
  },
  {
   "cell_type": "code",
   "execution_count": 183,
   "metadata": {},
   "outputs": [
    {
     "data": {
      "image/png": "[encoded data removed]",
      "text/plain": [
       "<Figure size 432x288 with 1 Axes>"
      ]
     },
     "metadata": {},
     "output_type": "display_data"
    }
   ],
   "source": [
    "from sklearn import manifold\n",
    "seed = np.random.RandomState(seed=3)\n",
    "mds = manifold.MDS(n_components=2, max_iter=3000, eps=1e-9, \n",
    "      random_state=seed, dissimilarity=\"precomputed\", n_jobs=1)\n",
    "results = mds.fit(dissimilarity_matrix)\n",
    "coords = results.embedding_\n",
    "\n",
    "plt.subplots_adjust(bottom = 0.1)\n",
    "plt.scatter(\n",
    "    coords[:, 0], coords[:, 1], marker = 'o'\n",
    "    )\n",
    "for label, x, y in zip(top_10_brands, coords[:, 0], coords[:, 1]):\n",
    "    plt.annotate(\n",
    "        label,\n",
    "        xy = (x, y), xytext = (-20, 20),\n",
    "        textcoords = 'offset points', ha = 'right', va = 'bottom',\n",
    "        bbox = dict(boxstyle = 'round,pad=0.5', fc = 'yellow', alpha = 0.5),\n",
    "        arrowprops = dict(arrowstyle = '->', connectionstyle = 'arc3,rad=0'))\n",
    "\n",
    "plt.show()"
   ]
  }
 ],
 "metadata": {
  "kernelspec": {
   "display_name": "Python 3",
   "language": "python",
   "name": "python3"
  },
  "language_info": {
   "codemirror_mode": {
    "name": "ipython",
    "version": 3
   },
   "file_extension": ".py",
   "mimetype": "text/x-python",
   "name": "python",
   "nbconvert_exporter": "python",
   "pygments_lexer": "ipython3",
   "version": "3.6.5"
  }
 },
 "nbformat": 4,
 "nbformat_minor": 2
}
